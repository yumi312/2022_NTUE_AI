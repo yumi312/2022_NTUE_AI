{
 "cells": [
  {
   "cell_type": "markdown",
   "metadata": {},
   "source": [
    "Reference:https://www.cs.toronto.edu/~kriz/cifar.html<br>\n",
    "深度學習攻略手冊"
   ]
  },
  {
   "cell_type": "code",
   "execution_count": 1,
   "metadata": {},
   "outputs": [],
   "source": [
    "# 載入資料集套件並下載資料集\n",
    "# from tensorflow.keras.datasets import cifar10\n",
    "from keras.datasets import cifar10\n",
    "\n",
    "# tuple                     tuple\n",
    "# (training x, training y), (testing x, testing y)\n",
    "\n",
    "# Features, Labels\n",
    "(X_train, y_train), (X_test, y_test) = cifar10.load_data()\n",
    "\n",
    "# cifar-10-batches-py.tar"
   ]
  },
  {
   "cell_type": "code",
   "execution_count": 2,
   "metadata": {},
   "outputs": [
    {
     "name": "stdout",
     "output_type": "stream",
     "text": [
      "X_train shape [[[[ 59  62  63]\n",
      "   [ 43  46  45]\n",
      "   [ 50  48  43]\n",
      "   ...\n",
      "   [158 132 108]\n",
      "   [152 125 102]\n",
      "   [148 124 103]]\n",
      "\n",
      "  [[ 16  20  20]\n",
      "   [  0   0   0]\n",
      "   [ 18   8   0]\n",
      "   ...\n",
      "   [123  88  55]\n",
      "   [119  83  50]\n",
      "   [122  87  57]]\n",
      "\n",
      "  [[ 25  24  21]\n",
      "   [ 16   7   0]\n",
      "   [ 49  27   8]\n",
      "   ...\n",
      "   [118  84  50]\n",
      "   [120  84  50]\n",
      "   [109  73  42]]\n",
      "\n",
      "  ...\n",
      "\n",
      "  [[208 170  96]\n",
      "   [201 153  34]\n",
      "   [198 161  26]\n",
      "   ...\n",
      "   [160 133  70]\n",
      "   [ 56  31   7]\n",
      "   [ 53  34  20]]\n",
      "\n",
      "  [[180 139  96]\n",
      "   [173 123  42]\n",
      "   [186 144  30]\n",
      "   ...\n",
      "   [184 148  94]\n",
      "   [ 97  62  34]\n",
      "   [ 83  53  34]]\n",
      "\n",
      "  [[177 144 116]\n",
      "   [168 129  94]\n",
      "   [179 142  87]\n",
      "   ...\n",
      "   [216 184 140]\n",
      "   [151 118  84]\n",
      "   [123  92  72]]]\n",
      "\n",
      "\n",
      " [[[154 177 187]\n",
      "   [126 137 136]\n",
      "   [105 104  95]\n",
      "   ...\n",
      "   [ 91  95  71]\n",
      "   [ 87  90  71]\n",
      "   [ 79  81  70]]\n",
      "\n",
      "  [[140 160 169]\n",
      "   [145 153 154]\n",
      "   [125 125 118]\n",
      "   ...\n",
      "   [ 96  99  78]\n",
      "   [ 77  80  62]\n",
      "   [ 71  73  61]]\n",
      "\n",
      "  [[140 155 164]\n",
      "   [139 146 149]\n",
      "   [115 115 112]\n",
      "   ...\n",
      "   [ 79  82  64]\n",
      "   [ 68  70  55]\n",
      "   [ 67  69  55]]\n",
      "\n",
      "  ...\n",
      "\n",
      "  [[175 167 166]\n",
      "   [156 154 160]\n",
      "   [154 160 170]\n",
      "   ...\n",
      "   [ 42  34  36]\n",
      "   [ 61  53  57]\n",
      "   [ 93  83  91]]\n",
      "\n",
      "  [[165 154 128]\n",
      "   [156 152 130]\n",
      "   [159 161 142]\n",
      "   ...\n",
      "   [103  93  96]\n",
      "   [123 114 120]\n",
      "   [131 121 131]]\n",
      "\n",
      "  [[163 148 120]\n",
      "   [158 148 122]\n",
      "   [163 156 133]\n",
      "   ...\n",
      "   [143 133 139]\n",
      "   [143 134 142]\n",
      "   [143 133 144]]]\n",
      "\n",
      "\n",
      " [[[255 255 255]\n",
      "   [253 253 253]\n",
      "   [253 253 253]\n",
      "   ...\n",
      "   [253 253 253]\n",
      "   [253 253 253]\n",
      "   [253 253 253]]\n",
      "\n",
      "  [[255 255 255]\n",
      "   [255 255 255]\n",
      "   [255 255 255]\n",
      "   ...\n",
      "   [255 255 255]\n",
      "   [255 255 255]\n",
      "   [255 255 255]]\n",
      "\n",
      "  [[255 255 255]\n",
      "   [254 254 254]\n",
      "   [254 254 254]\n",
      "   ...\n",
      "   [254 254 254]\n",
      "   [254 254 254]\n",
      "   [254 254 254]]\n",
      "\n",
      "  ...\n",
      "\n",
      "  [[113 120 112]\n",
      "   [111 118 111]\n",
      "   [105 112 106]\n",
      "   ...\n",
      "   [ 72  81  80]\n",
      "   [ 72  80  79]\n",
      "   [ 72  80  79]]\n",
      "\n",
      "  [[111 118 110]\n",
      "   [104 111 104]\n",
      "   [ 99 106  98]\n",
      "   ...\n",
      "   [ 68  75  73]\n",
      "   [ 70  76  75]\n",
      "   [ 78  84  82]]\n",
      "\n",
      "  [[106 113 105]\n",
      "   [ 99 106  98]\n",
      "   [ 95 102  94]\n",
      "   ...\n",
      "   [ 78  85  83]\n",
      "   [ 79  85  83]\n",
      "   [ 80  86  84]]]\n",
      "\n",
      "\n",
      " ...\n",
      "\n",
      "\n",
      " [[[ 35 178 235]\n",
      "   [ 40 176 239]\n",
      "   [ 42 176 241]\n",
      "   ...\n",
      "   [ 99 177 219]\n",
      "   [ 79 147 197]\n",
      "   [ 89 148 189]]\n",
      "\n",
      "  [[ 57 182 234]\n",
      "   [ 44 184 250]\n",
      "   [ 50 183 240]\n",
      "   ...\n",
      "   [156 182 200]\n",
      "   [141 177 206]\n",
      "   [116 149 175]]\n",
      "\n",
      "  [[ 98 197 237]\n",
      "   [ 64 189 252]\n",
      "   [ 69 192 245]\n",
      "   ...\n",
      "   [188 195 206]\n",
      "   [119 135 147]\n",
      "   [ 61  79  90]]\n",
      "\n",
      "  ...\n",
      "\n",
      "  [[ 73  79  77]\n",
      "   [ 53  63  68]\n",
      "   [ 54  68  80]\n",
      "   ...\n",
      "   [ 17  40  64]\n",
      "   [ 21  36  51]\n",
      "   [ 33  48  49]]\n",
      "\n",
      "  [[ 61  68  75]\n",
      "   [ 55  70  86]\n",
      "   [ 57  79 103]\n",
      "   ...\n",
      "   [ 24  48  72]\n",
      "   [ 17  35  53]\n",
      "   [  7  23  32]]\n",
      "\n",
      "  [[ 44  56  73]\n",
      "   [ 46  66  88]\n",
      "   [ 49  77 105]\n",
      "   ...\n",
      "   [ 27  52  77]\n",
      "   [ 21  43  66]\n",
      "   [ 12  31  50]]]\n",
      "\n",
      "\n",
      " [[[189 211 240]\n",
      "   [186 208 236]\n",
      "   [185 207 235]\n",
      "   ...\n",
      "   [175 195 224]\n",
      "   [172 194 222]\n",
      "   [169 194 220]]\n",
      "\n",
      "  [[194 210 239]\n",
      "   [191 207 236]\n",
      "   [190 206 235]\n",
      "   ...\n",
      "   [173 192 220]\n",
      "   [171 191 218]\n",
      "   [167 190 216]]\n",
      "\n",
      "  [[208 219 244]\n",
      "   [205 216 240]\n",
      "   [204 215 239]\n",
      "   ...\n",
      "   [175 191 217]\n",
      "   [172 190 216]\n",
      "   [169 191 215]]\n",
      "\n",
      "  ...\n",
      "\n",
      "  [[207 199 181]\n",
      "   [203 195 175]\n",
      "   [203 196 173]\n",
      "   ...\n",
      "   [135 132 127]\n",
      "   [162 158 150]\n",
      "   [168 163 151]]\n",
      "\n",
      "  [[198 190 170]\n",
      "   [189 181 159]\n",
      "   [180 172 147]\n",
      "   ...\n",
      "   [178 171 160]\n",
      "   [175 169 156]\n",
      "   [175 169 154]]\n",
      "\n",
      "  [[198 189 173]\n",
      "   [189 181 162]\n",
      "   [178 170 149]\n",
      "   ...\n",
      "   [195 184 169]\n",
      "   [196 189 171]\n",
      "   [195 190 171]]]\n",
      "\n",
      "\n",
      " [[[229 229 239]\n",
      "   [236 237 247]\n",
      "   [234 236 247]\n",
      "   ...\n",
      "   [217 219 233]\n",
      "   [221 223 234]\n",
      "   [222 223 233]]\n",
      "\n",
      "  [[222 221 229]\n",
      "   [239 239 249]\n",
      "   [233 234 246]\n",
      "   ...\n",
      "   [223 223 236]\n",
      "   [227 228 238]\n",
      "   [210 211 220]]\n",
      "\n",
      "  [[213 206 211]\n",
      "   [234 232 239]\n",
      "   [231 233 244]\n",
      "   ...\n",
      "   [220 220 232]\n",
      "   [220 219 232]\n",
      "   [202 203 215]]\n",
      "\n",
      "  ...\n",
      "\n",
      "  [[150 143 135]\n",
      "   [140 135 127]\n",
      "   [132 127 120]\n",
      "   ...\n",
      "   [224 222 218]\n",
      "   [230 228 225]\n",
      "   [241 241 238]]\n",
      "\n",
      "  [[137 132 126]\n",
      "   [130 127 120]\n",
      "   [125 121 115]\n",
      "   ...\n",
      "   [181 180 178]\n",
      "   [202 201 198]\n",
      "   [212 211 207]]\n",
      "\n",
      "  [[122 119 114]\n",
      "   [118 116 110]\n",
      "   [120 116 111]\n",
      "   ...\n",
      "   [179 177 173]\n",
      "   [164 164 162]\n",
      "   [163 163 161]]]]\n",
      "X_train shape [[[[158 112  49]\n",
      "   [159 111  47]\n",
      "   [165 116  51]\n",
      "   ...\n",
      "   [137  95  36]\n",
      "   [126  91  36]\n",
      "   [116  85  33]]\n",
      "\n",
      "  [[152 112  51]\n",
      "   [151 110  40]\n",
      "   [159 114  45]\n",
      "   ...\n",
      "   [136  95  31]\n",
      "   [125  91  32]\n",
      "   [119  88  34]]\n",
      "\n",
      "  [[151 110  47]\n",
      "   [151 109  33]\n",
      "   [158 111  36]\n",
      "   ...\n",
      "   [139  98  34]\n",
      "   [130  95  34]\n",
      "   [120  89  33]]\n",
      "\n",
      "  ...\n",
      "\n",
      "  [[ 68 124 177]\n",
      "   [ 42 100 148]\n",
      "   [ 31  88 137]\n",
      "   ...\n",
      "   [ 38  97 146]\n",
      "   [ 13  64 108]\n",
      "   [ 40  85 127]]\n",
      "\n",
      "  [[ 61 116 168]\n",
      "   [ 49 102 148]\n",
      "   [ 35  85 132]\n",
      "   ...\n",
      "   [ 26  82 130]\n",
      "   [ 29  82 126]\n",
      "   [ 20  64 107]]\n",
      "\n",
      "  [[ 54 107 160]\n",
      "   [ 56 105 149]\n",
      "   [ 45  89 132]\n",
      "   ...\n",
      "   [ 24  77 124]\n",
      "   [ 34  84 129]\n",
      "   [ 21  67 110]]]\n",
      "\n",
      "\n",
      " [[[235 235 235]\n",
      "   [231 231 231]\n",
      "   [232 232 232]\n",
      "   ...\n",
      "   [233 233 233]\n",
      "   [233 233 233]\n",
      "   [232 232 232]]\n",
      "\n",
      "  [[238 238 238]\n",
      "   [235 235 235]\n",
      "   [235 235 235]\n",
      "   ...\n",
      "   [236 236 236]\n",
      "   [236 236 236]\n",
      "   [235 235 235]]\n",
      "\n",
      "  [[237 237 237]\n",
      "   [234 234 234]\n",
      "   [234 234 234]\n",
      "   ...\n",
      "   [235 235 235]\n",
      "   [235 235 235]\n",
      "   [234 234 234]]\n",
      "\n",
      "  ...\n",
      "\n",
      "  [[ 87  99  89]\n",
      "   [ 43  51  37]\n",
      "   [ 19  23  11]\n",
      "   ...\n",
      "   [169 184 179]\n",
      "   [182 197 193]\n",
      "   [188 202 201]]\n",
      "\n",
      "  [[ 82  96  82]\n",
      "   [ 46  57  36]\n",
      "   [ 36  44  22]\n",
      "   ...\n",
      "   [174 189 183]\n",
      "   [185 200 196]\n",
      "   [187 202 200]]\n",
      "\n",
      "  [[ 85 101  83]\n",
      "   [ 62  75  48]\n",
      "   [ 58  67  38]\n",
      "   ...\n",
      "   [168 183 178]\n",
      "   [180 195 191]\n",
      "   [186 200 199]]]\n",
      "\n",
      "\n",
      " [[[158 190 222]\n",
      "   [158 187 218]\n",
      "   [139 166 194]\n",
      "   ...\n",
      "   [228 231 234]\n",
      "   [237 239 243]\n",
      "   [238 241 246]]\n",
      "\n",
      "  [[170 200 229]\n",
      "   [172 199 226]\n",
      "   [151 176 201]\n",
      "   ...\n",
      "   [232 232 236]\n",
      "   [246 246 250]\n",
      "   [246 247 251]]\n",
      "\n",
      "  [[174 201 225]\n",
      "   [176 200 222]\n",
      "   [157 179 199]\n",
      "   ...\n",
      "   [230 229 232]\n",
      "   [250 249 251]\n",
      "   [245 244 247]]\n",
      "\n",
      "  ...\n",
      "\n",
      "  [[ 31  40  45]\n",
      "   [ 30  39  44]\n",
      "   [ 26  35  40]\n",
      "   ...\n",
      "   [ 37  40  46]\n",
      "   [  9  13  14]\n",
      "   [  4   7   5]]\n",
      "\n",
      "  [[ 23  34  39]\n",
      "   [ 27  38  43]\n",
      "   [ 25  36  41]\n",
      "   ...\n",
      "   [ 19  20  24]\n",
      "   [  4   6   3]\n",
      "   [  5   7   3]]\n",
      "\n",
      "  [[ 28  41  47]\n",
      "   [ 30  43  50]\n",
      "   [ 32  45  52]\n",
      "   ...\n",
      "   [  5   6   8]\n",
      "   [  4   5   3]\n",
      "   [  7   8   7]]]\n",
      "\n",
      "\n",
      " ...\n",
      "\n",
      "\n",
      " [[[ 20  15  12]\n",
      "   [ 19  14  11]\n",
      "   [ 15  14  11]\n",
      "   ...\n",
      "   [ 10   9   7]\n",
      "   [ 12  11   9]\n",
      "   [ 13  12  10]]\n",
      "\n",
      "  [[ 21  16  13]\n",
      "   [ 20  16  13]\n",
      "   [ 18  17  12]\n",
      "   ...\n",
      "   [ 10   9   7]\n",
      "   [ 10   9   7]\n",
      "   [ 12  11   9]]\n",
      "\n",
      "  [[ 21  16  13]\n",
      "   [ 21  17  12]\n",
      "   [ 20  18  11]\n",
      "   ...\n",
      "   [ 12  11   9]\n",
      "   [ 12  11   9]\n",
      "   [ 13  12  10]]\n",
      "\n",
      "  ...\n",
      "\n",
      "  [[ 33  25  13]\n",
      "   [ 34  26  15]\n",
      "   [ 34  26  15]\n",
      "   ...\n",
      "   [ 28  25  52]\n",
      "   [ 29  25  58]\n",
      "   [ 23  20  42]]\n",
      "\n",
      "  [[ 33  25  14]\n",
      "   [ 34  26  15]\n",
      "   [ 34  26  15]\n",
      "   ...\n",
      "   [ 27  24  52]\n",
      "   [ 27  24  56]\n",
      "   [ 25  22  47]]\n",
      "\n",
      "  [[ 31  23  12]\n",
      "   [ 32  24  13]\n",
      "   [ 33  25  14]\n",
      "   ...\n",
      "   [ 24  23  50]\n",
      "   [ 26  23  53]\n",
      "   [ 25  20  47]]]\n",
      "\n",
      "\n",
      " [[[ 25  40  12]\n",
      "   [ 15  36   3]\n",
      "   [ 23  41  18]\n",
      "   ...\n",
      "   [ 61  82  78]\n",
      "   [ 92 113 112]\n",
      "   [ 75  89  92]]\n",
      "\n",
      "  [[ 12  25   6]\n",
      "   [ 20  37   7]\n",
      "   [ 24  36  15]\n",
      "   ...\n",
      "   [115 134 138]\n",
      "   [149 168 177]\n",
      "   [104 117 131]]\n",
      "\n",
      "  [[ 12  25  11]\n",
      "   [ 15  29   6]\n",
      "   [ 34  40  24]\n",
      "   ...\n",
      "   [154 172 182]\n",
      "   [157 175 192]\n",
      "   [116 129 151]]\n",
      "\n",
      "  ...\n",
      "\n",
      "  [[100 129  81]\n",
      "   [103 132  84]\n",
      "   [104 134  86]\n",
      "   ...\n",
      "   [ 97 128  84]\n",
      "   [ 98 126  84]\n",
      "   [ 91 121  79]]\n",
      "\n",
      "  [[103 132  83]\n",
      "   [104 131  83]\n",
      "   [107 135  87]\n",
      "   ...\n",
      "   [101 132  87]\n",
      "   [ 99 127  84]\n",
      "   [ 92 121  79]]\n",
      "\n",
      "  [[ 95 126  78]\n",
      "   [ 95 123  76]\n",
      "   [101 128  81]\n",
      "   ...\n",
      "   [ 93 124  80]\n",
      "   [ 95 123  81]\n",
      "   [ 92 120  80]]]\n",
      "\n",
      "\n",
      " [[[ 73  78  75]\n",
      "   [ 98 103 113]\n",
      "   [ 99 106 114]\n",
      "   ...\n",
      "   [135 150 152]\n",
      "   [135 149 154]\n",
      "   [203 215 223]]\n",
      "\n",
      "  [[ 69  73  70]\n",
      "   [ 84  89  97]\n",
      "   [ 68  75  81]\n",
      "   ...\n",
      "   [ 85  95  89]\n",
      "   [ 71  82  80]\n",
      "   [120 133 135]]\n",
      "\n",
      "  [[ 69  73  70]\n",
      "   [ 90  95 100]\n",
      "   [ 62  71  74]\n",
      "   ...\n",
      "   [ 74  81  70]\n",
      "   [ 53  62  54]\n",
      "   [ 62  74  69]]\n",
      "\n",
      "  ...\n",
      "\n",
      "  [[123 128  96]\n",
      "   [132 132 102]\n",
      "   [129 128 100]\n",
      "   ...\n",
      "   [108 107  88]\n",
      "   [ 62  60  55]\n",
      "   [ 27  27  28]]\n",
      "\n",
      "  [[115 121  91]\n",
      "   [123 124  95]\n",
      "   [129 126  99]\n",
      "   ...\n",
      "   [115 116  94]\n",
      "   [ 66  65  59]\n",
      "   [ 27  27  27]]\n",
      "\n",
      "  [[116 120  90]\n",
      "   [121 122  94]\n",
      "   [129 128 101]\n",
      "   ...\n",
      "   [116 115  94]\n",
      "   [ 68  65  58]\n",
      "   [ 27  26  26]]]]\n"
     ]
    }
   ],
   "source": [
    "# 查看資料(特徵向量X)的shape\n",
    "print(\"X_train shape\", X_train)\n",
    "print(\"X_train shape\", X_test)\n",
    "\n",
    "#  筆數，圖片的大小:32 * 32 ，色彩的channel(RGB: 3，Gray: 1，具透明度: 4)"
   ]
  },
  {
   "cell_type": "code",
   "execution_count": 3,
   "metadata": {},
   "outputs": [
    {
     "name": "stdout",
     "output_type": "stream",
     "text": [
      "y_train shape [[6]\n",
      " [9]\n",
      " [9]\n",
      " ...\n",
      " [9]\n",
      " [1]\n",
      " [1]]\n",
      "y_train shape [[3]\n",
      " [8]\n",
      " [8]\n",
      " ...\n",
      " [5]\n",
      " [1]\n",
      " [7]]\n"
     ]
    }
   ],
   "source": [
    "# 查看標籤(目標y)的shape\n",
    "print(\"y_train shape\", y_train)\n",
    "print(\"y_train shape\", y_test)"
   ]
  },
  {
   "cell_type": "code",
   "execution_count": 4,
   "metadata": {},
   "outputs": [
    {
     "name": "stdout",
     "output_type": "stream",
     "text": [
      "[[[ 59  62  63]\n",
      "  [ 43  46  45]\n",
      "  [ 50  48  43]\n",
      "  ...\n",
      "  [158 132 108]\n",
      "  [152 125 102]\n",
      "  [148 124 103]]\n",
      "\n",
      " [[ 16  20  20]\n",
      "  [  0   0   0]\n",
      "  [ 18   8   0]\n",
      "  ...\n",
      "  [123  88  55]\n",
      "  [119  83  50]\n",
      "  [122  87  57]]\n",
      "\n",
      " [[ 25  24  21]\n",
      "  [ 16   7   0]\n",
      "  [ 49  27   8]\n",
      "  ...\n",
      "  [118  84  50]\n",
      "  [120  84  50]\n",
      "  [109  73  42]]\n",
      "\n",
      " ...\n",
      "\n",
      " [[208 170  96]\n",
      "  [201 153  34]\n",
      "  [198 161  26]\n",
      "  ...\n",
      "  [160 133  70]\n",
      "  [ 56  31   7]\n",
      "  [ 53  34  20]]\n",
      "\n",
      " [[180 139  96]\n",
      "  [173 123  42]\n",
      "  [186 144  30]\n",
      "  ...\n",
      "  [184 148  94]\n",
      "  [ 97  62  34]\n",
      "  [ 83  53  34]]\n",
      "\n",
      " [[177 144 116]\n",
      "  [168 129  94]\n",
      "  [179 142  87]\n",
      "  ...\n",
      "  [216 184 140]\n",
      "  [151 118  84]\n",
      "  [123  92  72]]]\n"
     ]
    }
   ],
   "source": [
    "# 查看標籤內容\n",
    "print(X_train[0])\n",
    "\n",
    "#    2**8次方，顏色介於0-256"
   ]
  },
  {
   "cell_type": "markdown",
   "metadata": {},
   "source": [
    "### Q: 正規化(Normalization) v.s. 標準化(Standardization)\n",
    "\n",
    "正規化不會改變資料分布，只是縮小維度"
   ]
  },
  {
   "cell_type": "code",
   "execution_count": 5,
   "metadata": {},
   "outputs": [
    {
     "name": "stdout",
     "output_type": "stream",
     "text": [
      "[59 62 63]\n"
     ]
    }
   ],
   "source": [
    "# 進行min-max normalization\n",
    "# 將資料等比例縮放於[0, 1]區間，且不改變分布，讓資料基準相同\n",
    "# x' = x - min(x) / max(x) - min(x)\n",
    "#            0       255      0  色階介於0-255\n",
    "\n",
    "# 正規化前\n",
    "print(X_train[0][0][0])"
   ]
  },
  {
   "cell_type": "code",
   "execution_count": 6,
   "metadata": {},
   "outputs": [
    {
     "name": "stdout",
     "output_type": "stream",
     "text": [
      "[0.23137255 0.24313726 0.24705882]\n"
     ]
    }
   ],
   "source": [
    "# 正規化後\n",
    "X_train_norm = X_train.astype('float32') / 255\n",
    "X_test_norm = X_test.astype('float32') / 255\n",
    "print(X_train_norm[0][0][0])"
   ]
  },
  {
   "cell_type": "code",
   "execution_count": 7,
   "metadata": {},
   "outputs": [
    {
     "name": "stdout",
     "output_type": "stream",
     "text": [
      "[6]\n"
     ]
    }
   ],
   "source": [
    "# 將數字標籤轉為one-hot encoding\n",
    "# 類別標籤是用0-9表示\n",
    "from keras import utils\n",
    "\n",
    "# 轉換前\n",
    "print(y_train[0])"
   ]
  },
  {
   "cell_type": "code",
   "execution_count": 8,
   "metadata": {},
   "outputs": [
    {
     "name": "stdout",
     "output_type": "stream",
     "text": [
      "[0. 0. 0. 0. 0. 0. 1. 0. 0. 0.]\n"
     ]
    }
   ],
   "source": [
    "# 轉換後\n",
    "#                                   原標籤資料，類別的數量\n",
    "y_train_onehot = utils.to_categorical(y_train, 10)\n",
    "y_test_onehot = utils.to_categorical(y_test, 10)\n",
    "print(y_train_onehot[0]) # index = 6 的地方會是 1"
   ]
  },
  {
   "cell_type": "markdown",
   "metadata": {},
   "source": [
    "### 上面已完成資料預處理"
   ]
  },
  {
   "cell_type": "code",
   "execution_count": 9,
   "metadata": {},
   "outputs": [],
   "source": [
    "# 建立CNN神經網路架構\n",
    "from keras.models import Sequential\n",
    "from keras.layers import Dense, Flatten, Dropout, Conv2D, MaxPooling2D"
   ]
  },
  {
   "cell_type": "code",
   "execution_count": 10,
   "metadata": {},
   "outputs": [
    {
     "name": "stdout",
     "output_type": "stream",
     "text": [
      "Model: \"sequential\"\n",
      "_________________________________________________________________\n",
      " Layer (type)                Output Shape              Param #   \n",
      "=================================================================\n",
      " conv2d (Conv2D)             (None, 32, 32, 32)        896       \n",
      "                                                                 \n",
      " max_pooling2d (MaxPooling2D  (None, 16, 16, 32)       0         \n",
      " )                                                               \n",
      "                                                                 \n",
      " conv2d_1 (Conv2D)           (None, 16, 16, 64)        18496     \n",
      "                                                                 \n",
      " max_pooling2d_1 (MaxPooling  (None, 8, 8, 64)         0         \n",
      " 2D)                                                             \n",
      "                                                                 \n",
      " flatten (Flatten)           (None, 4096)              0         \n",
      "                                                                 \n",
      " dense (Dense)               (None, 1024)              4195328   \n",
      "                                                                 \n",
      " dense_1 (Dense)             (None, 10)                10250     \n",
      "                                                                 \n",
      "=================================================================\n",
      "Total params: 4,224,970\n",
      "Trainable params: 4,224,970\n",
      "Non-trainable params: 0\n",
      "_________________________________________________________________\n"
     ]
    }
   ],
   "source": [
    "# 建立神經網路\n",
    "cnn_network = Sequential()\n",
    "\n",
    "# 疊加Layer\n",
    "# 卷積層\n",
    "cnn_network.add(Conv2D(32, (3, 3), activation='relu', padding='same', input_shape = (32, 32, 3)))\n",
    "# 避免overfitting 把dropout加進去\n",
    "# cnn_network.add(Dropout(0.1))\n",
    "# 池化層\n",
    "cnn_network.add(MaxPooling2D(2, 2))\n",
    "# 卷積層\n",
    "cnn_network.add(Conv2D(64, (3, 3), activation='relu', padding='same'))\n",
    "# cnn_network.add(Dropout(0.1))\n",
    "# 池化層\n",
    "cnn_network.add(MaxPooling2D(2, 2))\n",
    "# 展平層\n",
    "cnn_network.add(Flatten())\n",
    "# 密集層\n",
    "cnn_network.add(Dense(1024, activation='relu'))\n",
    "# 密集層-輸出\n",
    "cnn_network.add(Dense(10, activation='softmax'))\n",
    "# 網路摘要\n",
    "cnn_network.summary()"
   ]
  },
  {
   "cell_type": "markdown",
   "metadata": {},
   "source": [
    "keras optimizer 說明\n",
    "https://keras.io/zh/optimizers/"
   ]
  },
  {
   "cell_type": "code",
   "execution_count": 11,
   "metadata": {},
   "outputs": [],
   "source": [
    "# 神經網路的訓練配置\n",
    "cnn_network.compile(loss = 'categorical_crossentropy', \n",
    "                    optimizer='adam',\n",
    "                    metrics=['acc'])  # 評量模型的準則\n"
   ]
  },
  {
   "cell_type": "code",
   "execution_count": 12,
   "metadata": {},
   "outputs": [
    {
     "name": "stdout",
     "output_type": "stream",
     "text": [
      "Epoch 1/20\n",
      "352/352 [==============================] - 47s 133ms/step - loss: 1.4633 - acc: 0.4778 - val_loss: 1.1374 - val_acc: 0.5968\n",
      "Epoch 2/20\n",
      "352/352 [==============================] - 44s 125ms/step - loss: 1.0427 - acc: 0.6350 - val_loss: 0.9869 - val_acc: 0.6662\n",
      "Epoch 3/20\n",
      "352/352 [==============================] - 43s 122ms/step - loss: 0.8838 - acc: 0.6895 - val_loss: 0.9058 - val_acc: 0.6916\n",
      "Epoch 4/20\n",
      "352/352 [==============================] - 40s 115ms/step - loss: 0.7621 - acc: 0.7336 - val_loss: 0.8405 - val_acc: 0.7082\n",
      "Epoch 5/20\n",
      "352/352 [==============================] - 38s 109ms/step - loss: 0.6501 - acc: 0.7739 - val_loss: 0.8253 - val_acc: 0.7142\n",
      "Epoch 6/20\n",
      "352/352 [==============================] - 38s 107ms/step - loss: 0.5396 - acc: 0.8138 - val_loss: 0.8132 - val_acc: 0.7358\n",
      "Epoch 7/20\n",
      "352/352 [==============================] - 39s 110ms/step - loss: 0.4426 - acc: 0.8473 - val_loss: 0.9445 - val_acc: 0.6986\n",
      "Epoch 8/20\n",
      "352/352 [==============================] - 39s 111ms/step - loss: 0.3366 - acc: 0.8877 - val_loss: 0.8705 - val_acc: 0.7330\n",
      "Epoch 9/20\n",
      "352/352 [==============================] - 39s 109ms/step - loss: 0.2450 - acc: 0.9204 - val_loss: 0.9510 - val_acc: 0.7292\n",
      "Epoch 10/20\n",
      "352/352 [==============================] - 36s 103ms/step - loss: 0.1635 - acc: 0.9492 - val_loss: 1.0168 - val_acc: 0.7306\n",
      "Epoch 11/20\n",
      "352/352 [==============================] - 37s 105ms/step - loss: 0.1102 - acc: 0.9668 - val_loss: 1.1513 - val_acc: 0.7178\n",
      "Epoch 12/20\n",
      "352/352 [==============================] - 38s 108ms/step - loss: 0.0753 - acc: 0.9792 - val_loss: 1.2352 - val_acc: 0.7316\n",
      "Epoch 13/20\n",
      "352/352 [==============================] - 39s 110ms/step - loss: 0.0530 - acc: 0.9860 - val_loss: 1.2619 - val_acc: 0.7370\n",
      "Epoch 14/20\n",
      "352/352 [==============================] - 38s 107ms/step - loss: 0.0510 - acc: 0.9859 - val_loss: 1.3467 - val_acc: 0.7384\n",
      "Epoch 15/20\n",
      "352/352 [==============================] - 36s 104ms/step - loss: 0.0499 - acc: 0.9854 - val_loss: 1.4619 - val_acc: 0.7182\n",
      "Epoch 16/20\n",
      "352/352 [==============================] - 37s 105ms/step - loss: 0.0482 - acc: 0.9856 - val_loss: 1.5716 - val_acc: 0.7278\n",
      "Epoch 17/20\n",
      "352/352 [==============================] - 38s 108ms/step - loss: 0.0383 - acc: 0.9886 - val_loss: 1.6511 - val_acc: 0.7294\n",
      "Epoch 18/20\n",
      "352/352 [==============================] - 38s 109ms/step - loss: 0.0445 - acc: 0.9851 - val_loss: 1.6065 - val_acc: 0.7252\n",
      "Epoch 19/20\n",
      "352/352 [==============================] - 37s 104ms/step - loss: 0.0362 - acc: 0.9888 - val_loss: 1.6785 - val_acc: 0.7284\n",
      "Epoch 20/20\n",
      "352/352 [==============================] - 36s 104ms/step - loss: 0.0320 - acc: 0.9902 - val_loss: 1.7306 - val_acc: 0.7356\n"
     ]
    }
   ],
   "source": [
    "# 進行訓練\n",
    "history = cnn_network.fit(x = X_train_norm,     # 訓練樣本\n",
    "                          y = y_train_onehot,   # 訓練標籤\n",
    "                          batch_size = 128,     # 每個批次多少筆資料進行訓練\n",
    "                          epochs=20,            # 20個訓練週期\n",
    "                          validation_split=0.1  # 拆出10%的training data作為驗證資料\n",
    "                          )"
   ]
  },
  {
   "cell_type": "markdown",
   "metadata": {},
   "source": [
    "訓練過程中loss一直下降，acc一直上升，表示模型還OK\n",
    "相反可能是overfitting"
   ]
  },
  {
   "cell_type": "code",
   "execution_count": 13,
   "metadata": {},
   "outputs": [
    {
     "data": {
      "image/png": "[encoded data removed]",
      "text/plain": [
       "<Figure size 432x288 with 1 Axes>"
      ]
     },
     "metadata": {
      "needs_background": "light"
     },
     "output_type": "display_data"
    }
   ],
   "source": [
    "# 繪製損失及準確率\n",
    "import util3 as u\n",
    "\n",
    "u.plot(history.history,    # 準確率與驗證準確率的歷史線圖\n",
    "       ('acc', 'val_acc'),\n",
    "       ('Training & Validation Acc'),\n",
    "       ('Epoch', 'Acc'),\n",
    "       )"
   ]
  },
  {
   "cell_type": "code",
   "execution_count": 14,
   "metadata": {},
   "outputs": [
    {
     "data": {
      "image/png": "[encoded data removed]",
      "text/plain": [
       "<Figure size 432x288 with 1 Axes>"
      ]
     },
     "metadata": {
      "needs_background": "light"
     },
     "output_type": "display_data"
    }
   ],
   "source": [
    "u.plot(history.history,    # 準確率與驗證準確率的歷史線圖\n",
    "       ('loss', 'val_loss'),\n",
    "       ('Training & Validation Loss'),\n",
    "       ('Epoch', 'Loss'),\n",
    "       )"
   ]
  },
  {
   "cell_type": "markdown",
   "metadata": {},
   "source": [
    "大概7.5的位置已經overfitting，將dropout加進去，或是調整各層參數，找到一個更好的參數設置"
   ]
  },
  {
   "cell_type": "code",
   "execution_count": 15,
   "metadata": {},
   "outputs": [],
   "source": [
    "# 儲存模型\n",
    "cnn_network.save(\"cifar_cnn.h5\")\n",
    "# 神經網路的儲存都存成h5\n",
    "\n",
    "# 儲存權重\n",
    "# save_weights()"
   ]
  },
  {
   "cell_type": "code",
   "execution_count": 16,
   "metadata": {},
   "outputs": [],
   "source": [
    "# 載入模型\n",
    "from keras.models import load_model\n",
    "old_cnn = load_model('cifar_cnn.h5')"
   ]
  },
  {
   "cell_type": "code",
   "execution_count": 17,
   "metadata": {},
   "outputs": [
    {
     "name": "stdout",
     "output_type": "stream",
     "text": [
      "313/313 [==============================] - 3s 10ms/step - loss: 1.8085 - acc: 0.7187\n",
      "Testing Loss:  1.808456301689148\n",
      "Testing Acc:  0.7186999917030334\n"
     ]
    }
   ],
   "source": [
    "# 測試資料評估模型\n",
    "# evaluate(資料，標籤)\n",
    "test_loss, test_acc = cnn_network.evaluate(X_test_norm, y_test_onehot)\n",
    "print(\"Testing Loss: \", test_loss)\n",
    "print(\"Testing Acc: \", test_acc)"
   ]
  },
  {
   "cell_type": "code",
   "execution_count": 18,
   "metadata": {},
   "outputs": [
    {
     "name": "stdout",
     "output_type": "stream",
     "text": [
      "313/313 [==============================] - 3s 10ms/step\n",
      "第一筆測試資料的預測機率:  [4.3842985e-12 3.2156838e-06 3.3677793e-07 1.3596168e-01 7.7390003e-05\n",
      " 2.8542656e-01 3.1979248e-04 1.1630094e-12 5.7821101e-01 5.3157815e-11]\n"
     ]
    }
   ],
   "source": [
    "# 查看預測結果\n",
    "pred_prop = cnn_network.predict(X_test_norm)\n",
    "print(\"第一筆測試資料的預測機率: \", pred_prop[0])\n",
    "# 資料有10種類別\n",
    "# 可知第一筆資料最有可能的類別為cat(index = 3)"
   ]
  },
  {
   "cell_type": "code",
   "execution_count": 19,
   "metadata": {},
   "outputs": [
    {
     "data": {
      "image/png": "[encoded data removed]",
      "text/plain": [
       "<Figure size 144x144 with 1 Axes>"
      ]
     },
     "metadata": {
      "needs_background": "light"
     },
     "output_type": "display_data"
    }
   ],
   "source": [
    "# 繪製測試資料\n",
    "import matplotlib.pyplot as plt\n",
    "\n",
    "fig = plt.gcf()\n",
    "fig.set_size_inches(2, 2)\n",
    "plt.imshow(X_test[0])\n",
    "plt.show()"
   ]
  },
  {
   "cell_type": "code",
   "execution_count": 20,
   "metadata": {},
   "outputs": [
    {
     "name": "stdout",
     "output_type": "stream",
     "text": [
      "第二筆測試資料的預測機率:  [6.3065925e-10 4.6802598e-01 3.5139150e-27 5.7645607e-21 4.6347529e-26\n",
      " 9.4196525e-22 2.7382200e-17 5.1076864e-27 5.3197402e-01 3.6857076e-15]\n"
     ]
    }
   ],
   "source": [
    "print(\"第二筆測試資料的預測機率: \", pred_prop[1])\n",
    "# 可知第二筆資料最有可能的類別為boat(index = 8)"
   ]
  },
  {
   "cell_type": "code",
   "execution_count": 21,
   "metadata": {},
   "outputs": [
    {
     "data": {
      "image/png": "[encoded data removed]",
      "text/plain": [
       "<Figure size 144x144 with 1 Axes>"
      ]
     },
     "metadata": {
      "needs_background": "light"
     },
     "output_type": "display_data"
    }
   ],
   "source": [
    "fig = plt.gcf()\n",
    "fig.set_size_inches(2, 2)\n",
    "plt.imshow(X_test[1])\n",
    "plt.show()"
   ]
  },
  {
   "cell_type": "code",
   "execution_count": 22,
   "metadata": {},
   "outputs": [
    {
     "name": "stdout",
     "output_type": "stream",
     "text": [
      "313/313 [==============================] - 3s 10ms/step\n",
      "前十筆預測標籤:  [8 8 0 0 6 6 1 6 3 1]\n",
      "前十筆真實標籤:  [3 8 8 0 6 6 1 6 3 1]\n"
     ]
    }
   ],
   "source": [
    "# 查看預測結果 - 數字標籤\n",
    "import numpy as np\n",
    "pred_class = np.argmax(cnn_network.predict(X_test_norm), axis=-1)\n",
    "\n",
    "print(\"前十筆預測標籤: \", pred_class[0:10])\n",
    "print(\"前十筆真實標籤: \", y_test[0:10].reshape(10))"
   ]
  },
  {
   "cell_type": "code",
   "execution_count": 23,
   "metadata": {},
   "outputs": [
    {
     "name": "stdout",
     "output_type": "stream",
     "text": [
      "第十筆測試資料的預測機率:  [5.1023259e-14 9.6103418e-01 2.1924534e-18 1.1010753e-14 4.2795986e-19\n",
      " 1.2837232e-13 4.0696752e-10 9.4482360e-20 3.3958497e-06 3.8962439e-02]\n"
     ]
    }
   ],
   "source": [
    "print(\"第十筆測試資料的預測機率: \", pred_prop[9])"
   ]
  },
  {
   "cell_type": "code",
   "execution_count": 24,
   "metadata": {},
   "outputs": [
    {
     "data": {
      "image/png": "[encoded data removed]",
      "text/plain": [
       "<Figure size 144x144 with 1 Axes>"
      ]
     },
     "metadata": {
      "needs_background": "light"
     },
     "output_type": "display_data"
    }
   ],
   "source": [
    "fig = plt.gcf()\n",
    "fig.set_size_inches(2, 2)\n",
    "plt.imshow(X_test[9])\n",
    "plt.show()"
   ]
  },
  {
   "cell_type": "markdown",
   "metadata": {},
   "source": [
    "第十筆預測為卡車，實際為汽車"
   ]
  },
  {
   "cell_type": "code",
   "execution_count": 25,
   "metadata": {},
   "outputs": [
    {
     "data": {
      "text/plain": [
       "'2.9.0'"
      ]
     },
     "execution_count": 25,
     "metadata": {},
     "output_type": "execute_result"
    }
   ],
   "source": [
    "import tensorflow\n",
    "tensorflow.__version__"
   ]
  }
 ],
 "metadata": {
  "interpreter": {
   "hash": "369f2c481f4da34e4445cda3fffd2e751bd1c4d706f27375911949ba6bb62e1c"
  },
  "kernelspec": {
   "display_name": "Python 3.10.2 64-bit",
   "language": "python",
   "name": "python3"
  },
  "language_info": {
   "codemirror_mode": {
    "name": "ipython",
    "version": 3
   },
   "file_extension": ".py",
   "mimetype": "text/x-python",
   "name": "python",
   "nbconvert_exporter": "python",
   "pygments_lexer": "ipython3",
   "version": "3.10.2"
  }
 },
 "nbformat": 4,
 "nbformat_minor": 4
}
