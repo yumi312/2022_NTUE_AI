{
 "cells": [
  {
   "cell_type": "code",
   "execution_count": 45,
   "metadata": {},
   "outputs": [
    {
     "data": {
      "text/html": [
       "<div>\n",
       "<style scoped>\n",
       "    .dataframe tbody tr th:only-of-type {\n",
       "        vertical-align: middle;\n",
       "    }\n",
       "\n",
       "    .dataframe tbody tr th {\n",
       "        vertical-align: top;\n",
       "    }\n",
       "\n",
       "    .dataframe thead th {\n",
       "        text-align: right;\n",
       "    }\n",
       "</style>\n",
       "<table border=\"1\" class=\"dataframe\">\n",
       "  <thead>\n",
       "    <tr style=\"text-align: right;\">\n",
       "      <th></th>\n",
       "      <th>country</th>\n",
       "      <th>continent</th>\n",
       "      <th>year</th>\n",
       "      <th>lifeExp</th>\n",
       "      <th>pop</th>\n",
       "      <th>gdpPercap</th>\n",
       "    </tr>\n",
       "  </thead>\n",
       "  <tbody>\n",
       "    <tr>\n",
       "      <th>0</th>\n",
       "      <td>Afghanistan</td>\n",
       "      <td>Asia</td>\n",
       "      <td>1950</td>\n",
       "      <td>29.22</td>\n",
       "      <td>8221506</td>\n",
       "      <td>801</td>\n",
       "    </tr>\n",
       "    <tr>\n",
       "      <th>1</th>\n",
       "      <td>Afghanistan</td>\n",
       "      <td>Asia</td>\n",
       "      <td>1951</td>\n",
       "      <td>29.83</td>\n",
       "      <td>8367138</td>\n",
       "      <td>741</td>\n",
       "    </tr>\n",
       "    <tr>\n",
       "      <th>2</th>\n",
       "      <td>Afghanistan</td>\n",
       "      <td>Asia</td>\n",
       "      <td>1952</td>\n",
       "      <td>29.54</td>\n",
       "      <td>8512771</td>\n",
       "      <td>754</td>\n",
       "    </tr>\n",
       "    <tr>\n",
       "      <th>3</th>\n",
       "      <td>Afghanistan</td>\n",
       "      <td>Asia</td>\n",
       "      <td>1953</td>\n",
       "      <td>29.70</td>\n",
       "      <td>8658404</td>\n",
       "      <td>768</td>\n",
       "    </tr>\n",
       "  </tbody>\n",
       "</table>\n",
       "</div>"
      ],
      "text/plain": [
       "       country continent  year  lifeExp      pop  gdpPercap\n",
       "0  Afghanistan      Asia  1950    29.22  8221506        801\n",
       "1  Afghanistan      Asia  1951    29.83  8367138        741\n",
       "2  Afghanistan      Asia  1952    29.54  8512771        754\n",
       "3  Afghanistan      Asia  1953    29.70  8658404        768"
      ]
     },
     "execution_count": 45,
     "metadata": {},
     "output_type": "execute_result"
    }
   ],
   "source": [
    "import numpy as np\n",
    "import pandas as pd # 引用套件並縮寫為 pd\n",
    "\n",
    "# 產生模擬資料\n",
    "name = [\"Afghanistan\", \"Afghanistan\", \"Afghanistan\", \"Afghanistan\"] \n",
    "CT=[\"Asia\",\"Asia\",\"Asia\",\"Asia\"]\n",
    "yr = [1950,1951,1952,1953]\n",
    "life=[29.22,29.83,29.54,29.7]\n",
    "population=[8221506,8367138,8512771,8658404]\n",
    "gdpPercap=[801,741,754,768]\n",
    "\n",
    "# 字典宣告{key: value}\n",
    "dict = {\"country\": name,  \n",
    "        \"continent\": CT,\n",
    "        \"year\":yr,\n",
    "        \"lifeExp\":life,\n",
    "        \"pop\":population,\n",
    "        \"gdpPercap\":gdpPercap\n",
    "       }\n",
    "\n",
    "df = pd.DataFrame(dict)\n",
    "df"
   ]
  },
  {
   "cell_type": "code",
   "execution_count": 46,
   "metadata": {},
   "outputs": [
    {
     "data": {
      "text/plain": [
       "['Afghanistan', 'Afghanistan', 'Afghanistan', 'Afghanistan']"
      ]
     },
     "execution_count": 46,
     "metadata": {},
     "output_type": "execute_result"
    }
   ],
   "source": [
    "dict[\"country\"]"
   ]
  },
  {
   "cell_type": "markdown",
   "metadata": {},
   "source": [
    "#### at 與 iat 都用來針對特定資料"
   ]
  },
  {
   "cell_type": "code",
   "execution_count": 47,
   "metadata": {},
   "outputs": [
    {
     "data": {
      "text/html": [
       "<div>\n",
       "<style scoped>\n",
       "    .dataframe tbody tr th:only-of-type {\n",
       "        vertical-align: middle;\n",
       "    }\n",
       "\n",
       "    .dataframe tbody tr th {\n",
       "        vertical-align: top;\n",
       "    }\n",
       "\n",
       "    .dataframe thead th {\n",
       "        text-align: right;\n",
       "    }\n",
       "</style>\n",
       "<table border=\"1\" class=\"dataframe\">\n",
       "  <thead>\n",
       "    <tr style=\"text-align: right;\">\n",
       "      <th></th>\n",
       "      <th>country</th>\n",
       "      <th>continent</th>\n",
       "      <th>year</th>\n",
       "      <th>lifeExp</th>\n",
       "      <th>pop</th>\n",
       "      <th>gdpPercap</th>\n",
       "    </tr>\n",
       "  </thead>\n",
       "  <tbody>\n",
       "    <tr>\n",
       "      <th>0</th>\n",
       "      <td>Afghanistan</td>\n",
       "      <td>Asia</td>\n",
       "      <td>1950</td>\n",
       "      <td>29.22</td>\n",
       "      <td>8221506</td>\n",
       "      <td>801</td>\n",
       "    </tr>\n",
       "    <tr>\n",
       "      <th>1</th>\n",
       "      <td>Japan</td>\n",
       "      <td>Asia</td>\n",
       "      <td>1951</td>\n",
       "      <td>29.83</td>\n",
       "      <td>8367138</td>\n",
       "      <td>741</td>\n",
       "    </tr>\n",
       "    <tr>\n",
       "      <th>2</th>\n",
       "      <td>Afghanistan</td>\n",
       "      <td>Asia</td>\n",
       "      <td>1952</td>\n",
       "      <td>29.54</td>\n",
       "      <td>8512771</td>\n",
       "      <td>754</td>\n",
       "    </tr>\n",
       "    <tr>\n",
       "      <th>3</th>\n",
       "      <td>Afghanistan</td>\n",
       "      <td>Asia</td>\n",
       "      <td>1953</td>\n",
       "      <td>29.70</td>\n",
       "      <td>8658404</td>\n",
       "      <td>768</td>\n",
       "    </tr>\n",
       "  </tbody>\n",
       "</table>\n",
       "</div>"
      ],
      "text/plain": [
       "       country continent  year  lifeExp      pop  gdpPercap\n",
       "0  Afghanistan      Asia  1950    29.22  8221506        801\n",
       "1        Japan      Asia  1951    29.83  8367138        741\n",
       "2  Afghanistan      Asia  1952    29.54  8512771        754\n",
       "3  Afghanistan      Asia  1953    29.70  8658404        768"
      ]
     },
     "execution_count": 47,
     "metadata": {},
     "output_type": "execute_result"
    }
   ],
   "source": [
    "df.at[1, \"country\"] = \"Japan\"\n",
    "df"
   ]
  },
  {
   "cell_type": "code",
   "execution_count": 48,
   "metadata": {},
   "outputs": [
    {
     "data": {
      "text/html": [
       "<div>\n",
       "<style scoped>\n",
       "    .dataframe tbody tr th:only-of-type {\n",
       "        vertical-align: middle;\n",
       "    }\n",
       "\n",
       "    .dataframe tbody tr th {\n",
       "        vertical-align: top;\n",
       "    }\n",
       "\n",
       "    .dataframe thead th {\n",
       "        text-align: right;\n",
       "    }\n",
       "</style>\n",
       "<table border=\"1\" class=\"dataframe\">\n",
       "  <thead>\n",
       "    <tr style=\"text-align: right;\">\n",
       "      <th></th>\n",
       "      <th>country</th>\n",
       "      <th>continent</th>\n",
       "      <th>year</th>\n",
       "      <th>lifeExp</th>\n",
       "      <th>pop</th>\n",
       "      <th>gdpPercap</th>\n",
       "    </tr>\n",
       "  </thead>\n",
       "  <tbody>\n",
       "    <tr>\n",
       "      <th>0</th>\n",
       "      <td>Afghanistan</td>\n",
       "      <td>Asia</td>\n",
       "      <td>1950</td>\n",
       "      <td>29.22</td>\n",
       "      <td>8221506</td>\n",
       "      <td>801</td>\n",
       "    </tr>\n",
       "    <tr>\n",
       "      <th>1</th>\n",
       "      <td>Afghanistan</td>\n",
       "      <td>Asia</td>\n",
       "      <td>1951</td>\n",
       "      <td>29.83</td>\n",
       "      <td>8367138</td>\n",
       "      <td>741</td>\n",
       "    </tr>\n",
       "    <tr>\n",
       "      <th>2</th>\n",
       "      <td>Afghanistan</td>\n",
       "      <td>Asia</td>\n",
       "      <td>1952</td>\n",
       "      <td>29.54</td>\n",
       "      <td>8512771</td>\n",
       "      <td>754</td>\n",
       "    </tr>\n",
       "    <tr>\n",
       "      <th>3</th>\n",
       "      <td>Afghanistan</td>\n",
       "      <td>Asia</td>\n",
       "      <td>1953</td>\n",
       "      <td>29.70</td>\n",
       "      <td>8658404</td>\n",
       "      <td>768</td>\n",
       "    </tr>\n",
       "  </tbody>\n",
       "</table>\n",
       "</div>"
      ],
      "text/plain": [
       "       country continent  year  lifeExp      pop  gdpPercap\n",
       "0  Afghanistan      Asia  1950    29.22  8221506        801\n",
       "1  Afghanistan      Asia  1951    29.83  8367138        741\n",
       "2  Afghanistan      Asia  1952    29.54  8512771        754\n",
       "3  Afghanistan      Asia  1953    29.70  8658404        768"
      ]
     },
     "execution_count": 48,
     "metadata": {},
     "output_type": "execute_result"
    }
   ],
   "source": [
    "df.iat[1, 0] = \"Afghanistan\"\n",
    "df"
   ]
  },
  {
   "cell_type": "code",
   "execution_count": 9,
   "metadata": {},
   "outputs": [
    {
     "data": {
      "text/plain": [
       "0    Afghanistan\n",
       "1    Afghanistan\n",
       "2    Afghanistan\n",
       "3    Afghanistan\n",
       "Name: country, dtype: object"
      ]
     },
     "execution_count": 9,
     "metadata": {},
     "output_type": "execute_result"
    }
   ],
   "source": [
    "df.country"
   ]
  },
  {
   "cell_type": "code",
   "execution_count": 10,
   "metadata": {},
   "outputs": [
    {
     "name": "stderr",
     "output_type": "stream",
     "text": [
      "C:\\Users\\superuser\\AppData\\Local\\Temp\\ipykernel_5720\\453132120.py:1: UserWarning: Pandas doesn't allow columns to be created via a new attribute name - see https://pandas.pydata.org/pandas-docs/stable/indexing.html#attribute-access\n",
      "  df.rand = pd.DataFrame(np.random.rand(4, 4), index = list('abcd'), columns= list('ABCD'))\n"
     ]
    },
    {
     "data": {
      "text/html": [
       "<div>\n",
       "<style scoped>\n",
       "    .dataframe tbody tr th:only-of-type {\n",
       "        vertical-align: middle;\n",
       "    }\n",
       "\n",
       "    .dataframe tbody tr th {\n",
       "        vertical-align: top;\n",
       "    }\n",
       "\n",
       "    .dataframe thead th {\n",
       "        text-align: right;\n",
       "    }\n",
       "</style>\n",
       "<table border=\"1\" class=\"dataframe\">\n",
       "  <thead>\n",
       "    <tr style=\"text-align: right;\">\n",
       "      <th></th>\n",
       "      <th>A</th>\n",
       "      <th>B</th>\n",
       "      <th>C</th>\n",
       "      <th>D</th>\n",
       "    </tr>\n",
       "  </thead>\n",
       "  <tbody>\n",
       "    <tr>\n",
       "      <th>a</th>\n",
       "      <td>0.745027</td>\n",
       "      <td>0.268819</td>\n",
       "      <td>0.095467</td>\n",
       "      <td>0.872604</td>\n",
       "    </tr>\n",
       "    <tr>\n",
       "      <th>b</th>\n",
       "      <td>0.432769</td>\n",
       "      <td>0.671211</td>\n",
       "      <td>0.044083</td>\n",
       "      <td>0.953992</td>\n",
       "    </tr>\n",
       "    <tr>\n",
       "      <th>c</th>\n",
       "      <td>0.042679</td>\n",
       "      <td>0.612546</td>\n",
       "      <td>0.936146</td>\n",
       "      <td>0.456491</td>\n",
       "    </tr>\n",
       "    <tr>\n",
       "      <th>d</th>\n",
       "      <td>0.094239</td>\n",
       "      <td>0.700381</td>\n",
       "      <td>0.035225</td>\n",
       "      <td>0.571777</td>\n",
       "    </tr>\n",
       "  </tbody>\n",
       "</table>\n",
       "</div>"
      ],
      "text/plain": [
       "          A         B         C         D\n",
       "a  0.745027  0.268819  0.095467  0.872604\n",
       "b  0.432769  0.671211  0.044083  0.953992\n",
       "c  0.042679  0.612546  0.936146  0.456491\n",
       "d  0.094239  0.700381  0.035225  0.571777"
      ]
     },
     "execution_count": 10,
     "metadata": {},
     "output_type": "execute_result"
    }
   ],
   "source": [
    "df.rand = pd.DataFrame(np.random.rand(4, 4), index = list('abcd'), columns= list('ABCD'))\n",
    "df.rand"
   ]
  },
  {
   "cell_type": "markdown",
   "metadata": {},
   "source": [
    "## 資料描述查看,可以透過下列方法查看目前資料的資訊\n",
    "\n",
    "shape\n",
    "\n",
    "describe()\n",
    "\n",
    "head()\n",
    "\n",
    "tail()\n",
    "\n",
    "columns\n",
    "\n",
    "index\n",
    "\n",
    "info()"
   ]
  },
  {
   "cell_type": "code",
   "execution_count": 11,
   "metadata": {},
   "outputs": [
    {
     "name": "stdout",
     "output_type": "stream",
     "text": [
      "回傳列數與欄數:\n",
      "(4, 6)\n",
      "---------------------------------------------------------------------\n",
      "回傳基本描述性統計:\n",
      "              year    lifeExp           pop   gdpPercap\n",
      "count     4.000000   4.000000  4.000000e+00    4.000000\n",
      "mean   1951.500000  29.572500  8.439955e+06  766.000000\n",
      "std       1.290994   0.263233  1.880110e+05   25.806976\n",
      "min    1950.000000  29.220000  8.221506e+06  741.000000\n",
      "25%    1950.750000  29.460000  8.330730e+06  750.750000\n",
      "50%    1951.500000  29.620000  8.439954e+06  761.000000\n",
      "75%    1952.250000  29.732500  8.549179e+06  776.250000\n",
      "max    1953.000000  29.830000  8.658404e+06  801.000000\n",
      "---------------------------------------------------------------------\n",
      "回傳最前三筆:\n",
      "       country continent  year  lifeExp      pop  gdpPercap\n",
      "0  Afghanistan      Asia  1950    29.22  8221506        801\n",
      "1  Afghanistan      Asia  1951    29.83  8367138        741\n",
      "2  Afghanistan      Asia  1952    29.54  8512771        754\n",
      "---------------------------------------------------------------------\n",
      "回傳最後三筆:\n",
      "       country continent  year  lifeExp      pop  gdpPercap\n",
      "1  Afghanistan      Asia  1951    29.83  8367138        741\n",
      "2  Afghanistan      Asia  1952    29.54  8512771        754\n",
      "3  Afghanistan      Asia  1953    29.70  8658404        768\n",
      "---------------------------------------------------------------------\n",
      "回傳欄位名稱:\n",
      "Index(['country', 'continent', 'year', 'lifeExp', 'pop', 'gdpPercap'], dtype='object')\n",
      "---------------------------------------------------------------------\n",
      "回傳Index:\n",
      "RangeIndex(start=0, stop=4, step=1)\n",
      "---------------------------------------------------------------------\n",
      "回傳資料內容:\n",
      "<class 'pandas.core.frame.DataFrame'>\n",
      "RangeIndex: 4 entries, 0 to 3\n",
      "Data columns (total 6 columns):\n",
      " #   Column     Non-Null Count  Dtype  \n",
      "---  ------     --------------  -----  \n",
      " 0   country    4 non-null      object \n",
      " 1   continent  4 non-null      object \n",
      " 2   year       4 non-null      int64  \n",
      " 3   lifeExp    4 non-null      float64\n",
      " 4   pop        4 non-null      int64  \n",
      " 5   gdpPercap  4 non-null      int64  \n",
      "dtypes: float64(1), int64(3), object(2)\n",
      "memory usage: 320.0+ bytes\n",
      "None\n",
      "---------------------------------------------------------------------\n"
     ]
    }
   ],
   "source": [
    "print(\"回傳列數與欄數:\")\n",
    "print(df.shape)\n",
    "print(\"---------------------------------------------------------------------\")  \n",
    "\n",
    "print(\"回傳基本描述性統計:\")\n",
    "print(df. describe())\n",
    "print(\"---------------------------------------------------------------------\")  \n",
    "\n",
    "print(\"回傳最前三筆:\"),\n",
    "print(df.head(3))\n",
    "print(\"---------------------------------------------------------------------\")   \n",
    "\n",
    "print(\"回傳最後三筆:\")\n",
    "print(df.tail(3))\n",
    "print(\"---------------------------------------------------------------------\") \n",
    "\n",
    "print(\"回傳欄位名稱:\")\n",
    "print(df.columns)\n",
    "print(\"---------------------------------------------------------------------\") \n",
    "\n",
    "print(\"回傳Index:\")\n",
    "print(df.index)\n",
    "print(\"---------------------------------------------------------------------\")  \n",
    "\n",
    "print(\"回傳資料內容:\")\n",
    "print(df.info())\n",
    "print(\"---------------------------------------------------------------------\") "
   ]
  },
  {
   "cell_type": "markdown",
   "metadata": {},
   "source": [
    "### 資料選擇與篩選:可以透過下列方法選擇元素\n",
    "\n",
    "#### 中括號 [] 選擇元素:將變數當作屬性選擇\n",
    "\n",
    "#### .loc .iloc 方法選擇\n",
    "\n",
    "#### Pandas 透過使用中括號 [] 與 .iloc 可以很靈活地從 data frame 中選擇想要的元素\n",
    "\n",
    "#### Python 在指定 0:1 時不包含 1，在指定 0:2 時不包含 2"
   ]
  },
  {
   "cell_type": "code",
   "execution_count": 12,
   "metadata": {},
   "outputs": [
    {
     "data": {
      "text/html": [
       "<div>\n",
       "<style scoped>\n",
       "    .dataframe tbody tr th:only-of-type {\n",
       "        vertical-align: middle;\n",
       "    }\n",
       "\n",
       "    .dataframe tbody tr th {\n",
       "        vertical-align: top;\n",
       "    }\n",
       "\n",
       "    .dataframe thead th {\n",
       "        text-align: right;\n",
       "    }\n",
       "</style>\n",
       "<table border=\"1\" class=\"dataframe\">\n",
       "  <thead>\n",
       "    <tr style=\"text-align: right;\">\n",
       "      <th></th>\n",
       "      <th>country</th>\n",
       "      <th>continent</th>\n",
       "      <th>year</th>\n",
       "    </tr>\n",
       "  </thead>\n",
       "  <tbody>\n",
       "    <tr>\n",
       "      <th>0</th>\n",
       "      <td>Afghanistan</td>\n",
       "      <td>Asia</td>\n",
       "      <td>1950</td>\n",
       "    </tr>\n",
       "    <tr>\n",
       "      <th>1</th>\n",
       "      <td>Afghanistan</td>\n",
       "      <td>Asia</td>\n",
       "      <td>1951</td>\n",
       "    </tr>\n",
       "  </tbody>\n",
       "</table>\n",
       "</div>"
      ],
      "text/plain": [
       "       country continent  year\n",
       "0  Afghanistan      Asia  1950\n",
       "1  Afghanistan      Asia  1951"
      ]
     },
     "execution_count": 12,
     "metadata": {},
     "output_type": "execute_result"
    }
   ],
   "source": [
    "#iloc都是抓到end-1\n",
    "df.iloc[:2, :3]"
   ]
  },
  {
   "cell_type": "code",
   "execution_count": 13,
   "metadata": {},
   "outputs": [
    {
     "data": {
      "text/html": [
       "<div>\n",
       "<style scoped>\n",
       "    .dataframe tbody tr th:only-of-type {\n",
       "        vertical-align: middle;\n",
       "    }\n",
       "\n",
       "    .dataframe tbody tr th {\n",
       "        vertical-align: top;\n",
       "    }\n",
       "\n",
       "    .dataframe thead th {\n",
       "        text-align: right;\n",
       "    }\n",
       "</style>\n",
       "<table border=\"1\" class=\"dataframe\">\n",
       "  <thead>\n",
       "    <tr style=\"text-align: right;\">\n",
       "      <th></th>\n",
       "      <th>country</th>\n",
       "      <th>continent</th>\n",
       "      <th>year</th>\n",
       "      <th>lifeExp</th>\n",
       "      <th>pop</th>\n",
       "      <th>gdpPercap</th>\n",
       "    </tr>\n",
       "  </thead>\n",
       "  <tbody>\n",
       "    <tr>\n",
       "      <th>0</th>\n",
       "      <td>Afghanistan</td>\n",
       "      <td>Asia</td>\n",
       "      <td>1950</td>\n",
       "      <td>29.22</td>\n",
       "      <td>8221506</td>\n",
       "      <td>801</td>\n",
       "    </tr>\n",
       "  </tbody>\n",
       "</table>\n",
       "</div>"
      ],
      "text/plain": [
       "       country continent  year  lifeExp      pop  gdpPercap\n",
       "0  Afghanistan      Asia  1950    29.22  8221506        801"
      ]
     },
     "execution_count": 13,
     "metadata": {},
     "output_type": "execute_result"
    }
   ],
   "source": [
    "df.iloc[0:1, :]"
   ]
  },
  {
   "cell_type": "code",
   "execution_count": 14,
   "metadata": {},
   "outputs": [
    {
     "data": {
      "text/html": [
       "<div>\n",
       "<style scoped>\n",
       "    .dataframe tbody tr th:only-of-type {\n",
       "        vertical-align: middle;\n",
       "    }\n",
       "\n",
       "    .dataframe tbody tr th {\n",
       "        vertical-align: top;\n",
       "    }\n",
       "\n",
       "    .dataframe thead th {\n",
       "        text-align: right;\n",
       "    }\n",
       "</style>\n",
       "<table border=\"1\" class=\"dataframe\">\n",
       "  <thead>\n",
       "    <tr style=\"text-align: right;\">\n",
       "      <th></th>\n",
       "      <th>continent</th>\n",
       "      <th>year</th>\n",
       "      <th>lifeExp</th>\n",
       "    </tr>\n",
       "  </thead>\n",
       "  <tbody>\n",
       "    <tr>\n",
       "      <th>1</th>\n",
       "      <td>Asia</td>\n",
       "      <td>1951</td>\n",
       "      <td>29.83</td>\n",
       "    </tr>\n",
       "    <tr>\n",
       "      <th>3</th>\n",
       "      <td>Asia</td>\n",
       "      <td>1953</td>\n",
       "      <td>29.70</td>\n",
       "    </tr>\n",
       "  </tbody>\n",
       "</table>\n",
       "</div>"
      ],
      "text/plain": [
       "  continent  year  lifeExp\n",
       "1      Asia  1951    29.83\n",
       "3      Asia  1953    29.70"
      ]
     },
     "execution_count": 14,
     "metadata": {},
     "output_type": "execute_result"
    }
   ],
   "source": [
    "#列只取1和3\n",
    "df.iloc[[1, 3], [1, 2, 3]]"
   ]
  },
  {
   "cell_type": "code",
   "execution_count": 15,
   "metadata": {},
   "outputs": [
    {
     "data": {
      "text/html": [
       "<div>\n",
       "<style scoped>\n",
       "    .dataframe tbody tr th:only-of-type {\n",
       "        vertical-align: middle;\n",
       "    }\n",
       "\n",
       "    .dataframe tbody tr th {\n",
       "        vertical-align: top;\n",
       "    }\n",
       "\n",
       "    .dataframe thead th {\n",
       "        text-align: right;\n",
       "    }\n",
       "</style>\n",
       "<table border=\"1\" class=\"dataframe\">\n",
       "  <thead>\n",
       "    <tr style=\"text-align: right;\">\n",
       "      <th></th>\n",
       "      <th>year</th>\n",
       "      <th>lifeExp</th>\n",
       "      <th>pop</th>\n",
       "    </tr>\n",
       "  </thead>\n",
       "  <tbody>\n",
       "    <tr>\n",
       "      <th>1</th>\n",
       "      <td>1951</td>\n",
       "      <td>29.83</td>\n",
       "      <td>8367138</td>\n",
       "    </tr>\n",
       "    <tr>\n",
       "      <th>2</th>\n",
       "      <td>1952</td>\n",
       "      <td>29.54</td>\n",
       "      <td>8512771</td>\n",
       "    </tr>\n",
       "    <tr>\n",
       "      <th>3</th>\n",
       "      <td>1953</td>\n",
       "      <td>29.70</td>\n",
       "      <td>8658404</td>\n",
       "    </tr>\n",
       "  </tbody>\n",
       "</table>\n",
       "</div>"
      ],
      "text/plain": [
       "   year  lifeExp      pop\n",
       "1  1951    29.83  8367138\n",
       "2  1952    29.54  8512771\n",
       "3  1953    29.70  8658404"
      ]
     },
     "execution_count": 15,
     "metadata": {},
     "output_type": "execute_result"
    }
   ],
   "source": [
    "#因為loc是標籤，所以是抓1~3\n",
    "df.loc[1:3, 'year':'pop']"
   ]
  },
  {
   "cell_type": "code",
   "execution_count": 16,
   "metadata": {},
   "outputs": [
    {
     "data": {
      "text/html": [
       "<div>\n",
       "<style scoped>\n",
       "    .dataframe tbody tr th:only-of-type {\n",
       "        vertical-align: middle;\n",
       "    }\n",
       "\n",
       "    .dataframe tbody tr th {\n",
       "        vertical-align: top;\n",
       "    }\n",
       "\n",
       "    .dataframe thead th {\n",
       "        text-align: right;\n",
       "    }\n",
       "</style>\n",
       "<table border=\"1\" class=\"dataframe\">\n",
       "  <thead>\n",
       "    <tr style=\"text-align: right;\">\n",
       "      <th></th>\n",
       "      <th>country</th>\n",
       "      <th>continent</th>\n",
       "      <th>year</th>\n",
       "      <th>lifeExp</th>\n",
       "      <th>pop</th>\n",
       "      <th>gdpPercap</th>\n",
       "    </tr>\n",
       "  </thead>\n",
       "  <tbody>\n",
       "    <tr>\n",
       "      <th>0</th>\n",
       "      <td>Afghanistan</td>\n",
       "      <td>Asia</td>\n",
       "      <td>1950</td>\n",
       "      <td>29.22</td>\n",
       "      <td>8221506</td>\n",
       "      <td>801</td>\n",
       "    </tr>\n",
       "    <tr>\n",
       "      <th>1</th>\n",
       "      <td>Afghanistan</td>\n",
       "      <td>Asia</td>\n",
       "      <td>1951</td>\n",
       "      <td>29.83</td>\n",
       "      <td>8367138</td>\n",
       "      <td>741</td>\n",
       "    </tr>\n",
       "    <tr>\n",
       "      <th>2</th>\n",
       "      <td>Afghanistan</td>\n",
       "      <td>Asia</td>\n",
       "      <td>1952</td>\n",
       "      <td>29.54</td>\n",
       "      <td>8512771</td>\n",
       "      <td>754</td>\n",
       "    </tr>\n",
       "    <tr>\n",
       "      <th>3</th>\n",
       "      <td>Afghanistan</td>\n",
       "      <td>Asia</td>\n",
       "      <td>1953</td>\n",
       "      <td>29.70</td>\n",
       "      <td>8658404</td>\n",
       "      <td>768</td>\n",
       "    </tr>\n",
       "  </tbody>\n",
       "</table>\n",
       "</div>"
      ],
      "text/plain": [
       "       country continent  year  lifeExp      pop  gdpPercap\n",
       "0  Afghanistan      Asia  1950    29.22  8221506        801\n",
       "1  Afghanistan      Asia  1951    29.83  8367138        741\n",
       "2  Afghanistan      Asia  1952    29.54  8512771        754\n",
       "3  Afghanistan      Asia  1953    29.70  8658404        768"
      ]
     },
     "execution_count": 16,
     "metadata": {},
     "output_type": "execute_result"
    }
   ],
   "source": [
    "df"
   ]
  },
  {
   "cell_type": "markdown",
   "metadata": {},
   "source": [
    "### 使用布林值篩選-選出平均壽命（lifeExp）超過 29.69的資料\n",
    "### 以下三種寫法都可以，通常使用最後一種(簡單明瞭)"
   ]
  },
  {
   "cell_type": "code",
   "execution_count": 17,
   "metadata": {},
   "outputs": [
    {
     "data": {
      "text/html": [
       "<div>\n",
       "<style scoped>\n",
       "    .dataframe tbody tr th:only-of-type {\n",
       "        vertical-align: middle;\n",
       "    }\n",
       "\n",
       "    .dataframe tbody tr th {\n",
       "        vertical-align: top;\n",
       "    }\n",
       "\n",
       "    .dataframe thead th {\n",
       "        text-align: right;\n",
       "    }\n",
       "</style>\n",
       "<table border=\"1\" class=\"dataframe\">\n",
       "  <thead>\n",
       "    <tr style=\"text-align: right;\">\n",
       "      <th></th>\n",
       "      <th>country</th>\n",
       "      <th>continent</th>\n",
       "      <th>year</th>\n",
       "      <th>lifeExp</th>\n",
       "      <th>pop</th>\n",
       "      <th>gdpPercap</th>\n",
       "    </tr>\n",
       "  </thead>\n",
       "  <tbody>\n",
       "    <tr>\n",
       "      <th>1</th>\n",
       "      <td>Afghanistan</td>\n",
       "      <td>Asia</td>\n",
       "      <td>1951</td>\n",
       "      <td>29.83</td>\n",
       "      <td>8367138</td>\n",
       "      <td>741</td>\n",
       "    </tr>\n",
       "    <tr>\n",
       "      <th>3</th>\n",
       "      <td>Afghanistan</td>\n",
       "      <td>Asia</td>\n",
       "      <td>1953</td>\n",
       "      <td>29.70</td>\n",
       "      <td>8658404</td>\n",
       "      <td>768</td>\n",
       "    </tr>\n",
       "  </tbody>\n",
       "</table>\n",
       "</div>"
      ],
      "text/plain": [
       "       country continent  year  lifeExp      pop  gdpPercap\n",
       "1  Afghanistan      Asia  1951    29.83  8367138        741\n",
       "3  Afghanistan      Asia  1953    29.70  8658404        768"
      ]
     },
     "execution_count": 17,
     "metadata": {},
     "output_type": "execute_result"
    }
   ],
   "source": [
    "out_df = df[df.iloc[:, 3] > 29.69]\n",
    "out_df"
   ]
  },
  {
   "cell_type": "code",
   "execution_count": 21,
   "metadata": {},
   "outputs": [
    {
     "data": {
      "text/html": [
       "<div>\n",
       "<style scoped>\n",
       "    .dataframe tbody tr th:only-of-type {\n",
       "        vertical-align: middle;\n",
       "    }\n",
       "\n",
       "    .dataframe tbody tr th {\n",
       "        vertical-align: top;\n",
       "    }\n",
       "\n",
       "    .dataframe thead th {\n",
       "        text-align: right;\n",
       "    }\n",
       "</style>\n",
       "<table border=\"1\" class=\"dataframe\">\n",
       "  <thead>\n",
       "    <tr style=\"text-align: right;\">\n",
       "      <th></th>\n",
       "      <th>country</th>\n",
       "      <th>continent</th>\n",
       "      <th>year</th>\n",
       "      <th>lifeExp</th>\n",
       "      <th>pop</th>\n",
       "      <th>gdpPercap</th>\n",
       "    </tr>\n",
       "  </thead>\n",
       "  <tbody>\n",
       "    <tr>\n",
       "      <th>1</th>\n",
       "      <td>Afghanistan</td>\n",
       "      <td>Asia</td>\n",
       "      <td>1951</td>\n",
       "      <td>29.83</td>\n",
       "      <td>8367138</td>\n",
       "      <td>741</td>\n",
       "    </tr>\n",
       "    <tr>\n",
       "      <th>3</th>\n",
       "      <td>Afghanistan</td>\n",
       "      <td>Asia</td>\n",
       "      <td>1953</td>\n",
       "      <td>29.70</td>\n",
       "      <td>8658404</td>\n",
       "      <td>768</td>\n",
       "    </tr>\n",
       "  </tbody>\n",
       "</table>\n",
       "</div>"
      ],
      "text/plain": [
       "       country continent  year  lifeExp      pop  gdpPercap\n",
       "1  Afghanistan      Asia  1951    29.83  8367138        741\n",
       "3  Afghanistan      Asia  1953    29.70  8658404        768"
      ]
     },
     "execution_count": 21,
     "metadata": {},
     "output_type": "execute_result"
    }
   ],
   "source": [
    "out_df = df[df.loc[:, \"lifeExp\"] > 29.69]\n",
    "out_df"
   ]
  },
  {
   "cell_type": "code",
   "execution_count": 18,
   "metadata": {},
   "outputs": [
    {
     "data": {
      "text/html": [
       "<div>\n",
       "<style scoped>\n",
       "    .dataframe tbody tr th:only-of-type {\n",
       "        vertical-align: middle;\n",
       "    }\n",
       "\n",
       "    .dataframe tbody tr th {\n",
       "        vertical-align: top;\n",
       "    }\n",
       "\n",
       "    .dataframe thead th {\n",
       "        text-align: right;\n",
       "    }\n",
       "</style>\n",
       "<table border=\"1\" class=\"dataframe\">\n",
       "  <thead>\n",
       "    <tr style=\"text-align: right;\">\n",
       "      <th></th>\n",
       "      <th>country</th>\n",
       "      <th>continent</th>\n",
       "      <th>year</th>\n",
       "      <th>lifeExp</th>\n",
       "      <th>pop</th>\n",
       "      <th>gdpPercap</th>\n",
       "    </tr>\n",
       "  </thead>\n",
       "  <tbody>\n",
       "    <tr>\n",
       "      <th>1</th>\n",
       "      <td>Afghanistan</td>\n",
       "      <td>Asia</td>\n",
       "      <td>1951</td>\n",
       "      <td>29.83</td>\n",
       "      <td>8367138</td>\n",
       "      <td>741</td>\n",
       "    </tr>\n",
       "    <tr>\n",
       "      <th>3</th>\n",
       "      <td>Afghanistan</td>\n",
       "      <td>Asia</td>\n",
       "      <td>1953</td>\n",
       "      <td>29.70</td>\n",
       "      <td>8658404</td>\n",
       "      <td>768</td>\n",
       "    </tr>\n",
       "  </tbody>\n",
       "</table>\n",
       "</div>"
      ],
      "text/plain": [
       "       country continent  year  lifeExp      pop  gdpPercap\n",
       "1  Afghanistan      Asia  1951    29.83  8367138        741\n",
       "3  Afghanistan      Asia  1953    29.70  8658404        768"
      ]
     },
     "execution_count": 18,
     "metadata": {},
     "output_type": "execute_result"
    }
   ],
   "source": [
    "out_df2 = df[df['lifeExp'] > 29.69]\n",
    "out_df2"
   ]
  },
  {
   "cell_type": "markdown",
   "metadata": {},
   "source": [
    "## 資料排序：\n",
    "\n",
    "### .sort_index()\n",
    "### .sort_values()\n",
    "\n",
    "### 透過索引值做排序，axis 可以指定依照行還是依照列排序(0: 列， 1: 行)，ascending 用於設定升冪(True)或降冪(False)"
   ]
  },
  {
   "cell_type": "code",
   "execution_count": 28,
   "metadata": {},
   "outputs": [
    {
     "data": {
      "text/html": [
       "<div>\n",
       "<style scoped>\n",
       "    .dataframe tbody tr th:only-of-type {\n",
       "        vertical-align: middle;\n",
       "    }\n",
       "\n",
       "    .dataframe tbody tr th {\n",
       "        vertical-align: top;\n",
       "    }\n",
       "\n",
       "    .dataframe thead th {\n",
       "        text-align: right;\n",
       "    }\n",
       "</style>\n",
       "<table border=\"1\" class=\"dataframe\">\n",
       "  <thead>\n",
       "    <tr style=\"text-align: right;\">\n",
       "      <th></th>\n",
       "      <th>country</th>\n",
       "      <th>continent</th>\n",
       "      <th>year</th>\n",
       "      <th>lifeExp</th>\n",
       "      <th>pop</th>\n",
       "      <th>gdpPercap</th>\n",
       "    </tr>\n",
       "  </thead>\n",
       "  <tbody>\n",
       "    <tr>\n",
       "      <th>0</th>\n",
       "      <td>Afghanistan</td>\n",
       "      <td>Asia</td>\n",
       "      <td>1950</td>\n",
       "      <td>29.22</td>\n",
       "      <td>8221506</td>\n",
       "      <td>801</td>\n",
       "    </tr>\n",
       "    <tr>\n",
       "      <th>1</th>\n",
       "      <td>Afghanistan</td>\n",
       "      <td>Asia</td>\n",
       "      <td>1951</td>\n",
       "      <td>29.83</td>\n",
       "      <td>8367138</td>\n",
       "      <td>741</td>\n",
       "    </tr>\n",
       "    <tr>\n",
       "      <th>2</th>\n",
       "      <td>Afghanistan</td>\n",
       "      <td>Asia</td>\n",
       "      <td>1952</td>\n",
       "      <td>29.54</td>\n",
       "      <td>8512771</td>\n",
       "      <td>754</td>\n",
       "    </tr>\n",
       "    <tr>\n",
       "      <th>3</th>\n",
       "      <td>Afghanistan</td>\n",
       "      <td>Asia</td>\n",
       "      <td>1953</td>\n",
       "      <td>29.70</td>\n",
       "      <td>8658404</td>\n",
       "      <td>768</td>\n",
       "    </tr>\n",
       "  </tbody>\n",
       "</table>\n",
       "</div>"
      ],
      "text/plain": [
       "       country continent  year  lifeExp      pop  gdpPercap\n",
       "0  Afghanistan      Asia  1950    29.22  8221506        801\n",
       "1  Afghanistan      Asia  1951    29.83  8367138        741\n",
       "2  Afghanistan      Asia  1952    29.54  8512771        754\n",
       "3  Afghanistan      Asia  1953    29.70  8658404        768"
      ]
     },
     "execution_count": 28,
     "metadata": {},
     "output_type": "execute_result"
    }
   ],
   "source": [
    "df.sort_index(axis = 1, ascending = True)"
   ]
  },
  {
   "cell_type": "markdown",
   "metadata": {},
   "source": [
    "## 透過指定欄位的數值排序"
   ]
  },
  {
   "cell_type": "code",
   "execution_count": 29,
   "metadata": {},
   "outputs": [
    {
     "data": {
      "text/html": [
       "<div>\n",
       "<style scoped>\n",
       "    .dataframe tbody tr th:only-of-type {\n",
       "        vertical-align: middle;\n",
       "    }\n",
       "\n",
       "    .dataframe tbody tr th {\n",
       "        vertical-align: top;\n",
       "    }\n",
       "\n",
       "    .dataframe thead th {\n",
       "        text-align: right;\n",
       "    }\n",
       "</style>\n",
       "<table border=\"1\" class=\"dataframe\">\n",
       "  <thead>\n",
       "    <tr style=\"text-align: right;\">\n",
       "      <th></th>\n",
       "      <th>country</th>\n",
       "      <th>continent</th>\n",
       "      <th>year</th>\n",
       "      <th>lifeExp</th>\n",
       "      <th>pop</th>\n",
       "      <th>gdpPercap</th>\n",
       "    </tr>\n",
       "  </thead>\n",
       "  <tbody>\n",
       "    <tr>\n",
       "      <th>3</th>\n",
       "      <td>Afghanistan</td>\n",
       "      <td>Asia</td>\n",
       "      <td>1953</td>\n",
       "      <td>29.70</td>\n",
       "      <td>8658404</td>\n",
       "      <td>768</td>\n",
       "    </tr>\n",
       "    <tr>\n",
       "      <th>2</th>\n",
       "      <td>Afghanistan</td>\n",
       "      <td>Asia</td>\n",
       "      <td>1952</td>\n",
       "      <td>29.54</td>\n",
       "      <td>8512771</td>\n",
       "      <td>754</td>\n",
       "    </tr>\n",
       "    <tr>\n",
       "      <th>1</th>\n",
       "      <td>Afghanistan</td>\n",
       "      <td>Asia</td>\n",
       "      <td>1951</td>\n",
       "      <td>29.83</td>\n",
       "      <td>8367138</td>\n",
       "      <td>741</td>\n",
       "    </tr>\n",
       "    <tr>\n",
       "      <th>0</th>\n",
       "      <td>Afghanistan</td>\n",
       "      <td>Asia</td>\n",
       "      <td>1950</td>\n",
       "      <td>29.22</td>\n",
       "      <td>8221506</td>\n",
       "      <td>801</td>\n",
       "    </tr>\n",
       "  </tbody>\n",
       "</table>\n",
       "</div>"
      ],
      "text/plain": [
       "       country continent  year  lifeExp      pop  gdpPercap\n",
       "3  Afghanistan      Asia  1953    29.70  8658404        768\n",
       "2  Afghanistan      Asia  1952    29.54  8512771        754\n",
       "1  Afghanistan      Asia  1951    29.83  8367138        741\n",
       "0  Afghanistan      Asia  1950    29.22  8221506        801"
      ]
     },
     "execution_count": 29,
     "metadata": {},
     "output_type": "execute_result"
    }
   ],
   "source": [
    "df.sort_values(['year'], ascending = False)\n",
    "df.sort_values(by = 'year', ascending = False)"
   ]
  },
  {
   "cell_type": "markdown",
   "metadata": {},
   "source": [
    "## 資料純化：\n",
    "\n",
    "### 判斷是否為空值,可以使用下列兩種方法來判斷：\n",
    "### isnull()\n",
    "### notnull()\n",
    "\n",
    "## 下列程式引導您先讀取CSV檔案，檔案內的欄位部分會有空值,故進行資料純化。"
   ]
  },
  {
   "cell_type": "markdown",
   "metadata": {},
   "source": [
    "#### 以下將year為空的資料直接補0，但年份為0不合理，最好先觀察資料，選擇填入的值"
   ]
  },
  {
   "cell_type": "code",
   "execution_count": null,
   "metadata": {},
   "outputs": [],
   "source": [
    "# 讀取 CSV File\n",
    "import pandas as pd                                    # 引用套件並縮寫為 pd  \n",
    "df = pd.read_csv('WBtestEN-10y.csv') \n",
    "\n",
    "#如果不要原來DataFrame df受到函式的影響，則可以將處理結果交給一個新DataFrame（例如dftest1）\n",
    "\n",
    "dftest1=df                                              #將資料複製到dftest1\n",
    "print(df.head())\n",
    "print(\"共有多少國家：\"+str(dftest1['country'].nunique())) #找出相異資料\n",
    "df=dftest1.fillna(0)                                    #把NaN資料替換成0\n",
    "\n",
    "print(df.head())"
   ]
  },
  {
   "cell_type": "code",
   "execution_count": 30,
   "metadata": {},
   "outputs": [
    {
     "name": "stdout",
     "output_type": "stream",
     "text": [
      "   Unnamed: 0      country continent    year  lifeExp       pop  gdpPercap\n",
      "0           0  Afghanistan      Asia  1950.0    29.22   8221506        728\n",
      "1          10  Afghanistan      Asia     NaN    31.33   9856623        840\n",
      "2          20  Afghanistan      Asia  1970.0    35.26  12462862        778\n",
      "3          30  Afghanistan      Asia  1980.0    39.29  13681238        901\n",
      "4          40  Afghanistan      Asia     NaN    41.33  15337935        731\n",
      "共有多少國家：142\n",
      "   Unnamed: 0      country continent    year  lifeExp       pop  gdpPercap\n",
      "0           0  Afghanistan      Asia  1950.0    29.22   8221506        728\n",
      "1          10  Afghanistan      Asia  1990.0    31.33   9856623        840\n",
      "2          20  Afghanistan      Asia  1970.0    35.26  12462862        778\n",
      "3          30  Afghanistan      Asia  1980.0    39.29  13681238        901\n",
      "4          40  Afghanistan      Asia  1990.0    41.33  15337935        731\n"
     ]
    }
   ],
   "source": [
    "# 讀取 CSV File\n",
    "import pandas as pd                                    # 引用套件並縮寫為 pd  \n",
    "df = pd.read_csv('WBtestEN-10y.csv') \n",
    "\n",
    "#如果不要原來DataFrame df受到函式的影響，則可以將處理結果交給一個新DataFrame（例如dftest1）\n",
    "\n",
    "dftest1=df                                              #將資料複製到dftest1\n",
    "print(df.head())\n",
    "print(\"共有多少國家：\"+str(dftest1['country'].nunique())) #找出相異資料\n",
    "df=dftest1.fillna(df.year.median())                                    #把NaN資料替換成0\n",
    "\n",
    "print(df.head())"
   ]
  },
  {
   "cell_type": "markdown",
   "metadata": {},
   "source": [
    "### 如此操作前提是先確定在當前資料分析情境下：將不存在的值視為0 這件事情是沒有問題的。兼顧DataFrame 的數據品質，最好將空值設定成任何容易識別的值：\n",
    "### 觀察本例中year欄位規律是間隔十年，可以用「前後項的平均值」放入，故將前後二項平均放入，是最佳純化的方法。處理空值的其他常用方法：\n",
    "\n",
    "### 填入所有項目該欄位之平均值：\n",
    "#### dftest[‘year'].fillna(value=df['year'].mean(), inplace=True)\n",
    "### 填入往前遇到的第一個非 nan值：\n",
    "#### dftest[‘year’].fillna(method='ffill', inplace=True)\n",
    "### 填入往後遇到的第一個非 nan 值：\n",
    "#### dftest['year'].fillna(method='bfill', inplace=True)"
   ]
  },
  {
   "cell_type": "code",
   "execution_count": 32,
   "metadata": {},
   "outputs": [
    {
     "name": "stdout",
     "output_type": "stream",
     "text": [
      "numbers of row that year is NAN: 0\n",
      "numbers of row that year is not NAN: 1278\n"
     ]
    }
   ],
   "source": [
    "# 讀取後放入 DataFrame\n",
    "dftest3 = pd.DataFrame(df)\n",
    "# 找出哪些是空值,哪些不是空值\n",
    "print(\"numbers of row that year is NAN: %i\"  %sum(dftest3.year.isnull()))\n",
    "print(\"numbers of row that year is not NAN: %i\"  %sum(dftest3['year'].notnull()))"
   ]
  },
  {
   "cell_type": "code",
   "execution_count": null,
   "metadata": {},
   "outputs": [],
   "source": [
    "#用前後二值的平均值填入nan值，使用fillna和shift（）獲得所需的输出\n",
    "\n",
    "dftest3.year = dftest3.year.fillna((dftest3.year.shift() + dftest3.year.shift(-1))/2)"
   ]
  },
  {
   "cell_type": "code",
   "execution_count": null,
   "metadata": {},
   "outputs": [],
   "source": [
    "# 讀取 CSV File\n",
    "\n",
    "import pandas as pd                                        #引用套件並縮寫為pd  \n",
    "df = pd.read_csv('WBdataEN-5y.csv') \n",
    "\n",
    "dftest2=df                                                 #將資料複製到dftest\n",
    "print(df.head(6))\n",
    "print(\"共有多少國家：\"+str(dftest2['country'].nunique()))    #找出相異資料\n",
    "                                                           #把NaN資料替換成0\n",
    "dftest2.year = df.year.fillna((df.year.shift() + df.year.shift(-1))/2)\n",
    "print(df.head(6))"
   ]
  },
  {
   "cell_type": "code",
   "execution_count": null,
   "metadata": {},
   "outputs": [],
   "source": []
  }
 ],
 "metadata": {
  "kernelspec": {
   "display_name": "Python 3.10.2 64-bit",
   "language": "python",
   "name": "python3"
  },
  "language_info": {
   "codemirror_mode": {
    "name": "ipython",
    "version": 3
   },
   "file_extension": ".py",
   "mimetype": "text/x-python",
   "name": "python",
   "nbconvert_exporter": "python",
   "pygments_lexer": "ipython3",
   "version": "3.10.2"
  },
  "vscode": {
   "interpreter": {
    "hash": "369f2c481f4da34e4445cda3fffd2e751bd1c4d706f27375911949ba6bb62e1c"
   }
  }
 },
 "nbformat": 4,
 "nbformat_minor": 4
}
