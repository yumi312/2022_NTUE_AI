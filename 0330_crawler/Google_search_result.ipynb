{
 "cells": [
  {
   "cell_type": "markdown",
   "metadata": {},
   "source": [
    "# 爬取 google 搜尋結果的第一個頁面標題\n",
    "\n",
    "- 練習使用 beautifulsoup css selector"
   ]
  },
  {
   "cell_type": "code",
   "execution_count": 10,
   "metadata": {},
   "outputs": [],
   "source": [
    "import requests\n",
    "\n",
    "from bs4 import BeautifulSoup\n",
    "from urllib3.exceptions import HTTPError\n",
    "from urllib.parse import urljoin\n",
    "from urllib.parse import quote\n",
    "from pprint import pprint"
   ]
  },
  {
   "cell_type": "code",
   "execution_count": 26,
   "metadata": {},
   "outputs": [],
   "source": [
    "class GoogleSpider(object):\n",
    "    def __init__(self):\n",
    "        super().__init__()\n",
    "        self.headers = {\n",
    "            'User-Agent': 'Mozilla/5.0 (Macintosh; Intel Mac OS X 10.14; rv:79.0) Gecko/20100101 Firefox/79.0',\n",
    "            'Host': 'www.google.com',\n",
    "            'Referer': 'https://www.google.com/'\n",
    "        }\n",
    "\n",
    "    def __get_source(self, url: str) -> requests.Response:\n",
    "        return requests.get(url, headers=self.headers)\n",
    "\n",
    "    def search(self, query: str) -> list:\n",
    "        # Get response\n",
    "        response = self.__get_source('https://www.google.com/search?q=%s' % quote(query))\n",
    "        # Initialize BeautifulSoup\n",
    "        soup = BeautifulSoup(response.text, 'html.parser')\n",
    "        # Get the result containers\n",
    "        result_containers = soup.find_all('div', class_='g')\n",
    "        # Final results list\n",
    "        results = []\n",
    "        # Loop through every container\n",
    "        for container in result_containers:\n",
    "            # Result title\n",
    "            title = container.find('h3').text\n",
    "            print(\"title: \", title)\n",
    "            # Result URL\n",
    "            url = container.find('a')['href']\n",
    "            print(\"url: \", url)\n",
    "        return results"
   ]
  },
  {
   "cell_type": "code",
   "execution_count": 25,
   "metadata": {},
   "outputs": [
    {
     "name": "stdout",
     "output_type": "stream",
     "text": [
      "Search for what? 人工智慧\n",
      "title:  人工智能- 维基百科，自由的百科全书\n",
      "url:  https://zh.wikipedia.org/zh-tw/%E4%BA%BA%E5%B7%A5%E6%99%BA%E8%83%BD\n",
      "title:  什麼是人工智慧(AI)？| Oracle 台灣\n",
      "url:  https://www.oracle.com/tw/artificial-intelligence/what-is-ai/\n",
      "title:  什麼是人工智慧(AI)？ — Amazon Web Services\n",
      "url:  https://aws.amazon.com/tw/machine-learning/what-is-ai/\n",
      "title:  何謂人工智慧？\n",
      "url:  https://www.trendmicro.com/zh_tw/what-is/machine-learning/artificial-intelligence.html\n",
      "title:  什麼是人工智慧（即AI）？為什麼人工智慧很重要 - NetApp\n",
      "url:  https://www.netapp.com/zh-hant/artificial-intelligence/what-is-artificial-intelligence/\n",
      "title:  什麼是人工智慧？\n",
      "url:  https://azure.microsoft.com/zh-tw/overview/what-is-artificial-intelligence/\n",
      "title:  台灣人工智慧學校: 首頁\n",
      "url:  https://aiacademy.tw/\n",
      "title:  AI 人工智慧| TechNews 科技新報\n",
      "url:  https://technews.tw/category/ai/\n",
      "[{'des': ' › zh-tw › 人工智能',\n",
      "  'title': '人工智能- 维基百科，自由的百科全书',\n",
      "  'url': 'https://zh.wikipedia.org/zh-tw/%E4%BA%BA%E5%B7%A5%E6%99%BA%E8%83%BD'},\n",
      " {'des': ' › Oracle 台灣 › 雲端 › 人工智慧',\n",
      "  'title': '什麼是人工智慧(AI)？| Oracle 台灣',\n",
      "  'url': 'https://www.oracle.com/tw/artificial-intelligence/what-is-ai/'},\n",
      " {'des': ' › machine-learning › what-is-ai',\n",
      "  'title': '什麼是人工智慧(AI)？ — Amazon Web Services',\n",
      "  'url': 'https://aws.amazon.com/tw/machine-learning/what-is-ai/'},\n",
      " {'des': ' › artificial-intelligence',\n",
      "  'title': '何謂人工智慧？',\n",
      "  'url': 'https://www.trendmicro.com/zh_tw/what-is/machine-learning/artificial-intelligence.html'},\n",
      " {'des': ' › 首頁 › 人工智慧',\n",
      "  'title': '什麼是人工智慧（即AI）？為什麼人工智慧很重要 - NetApp',\n",
      "  'url': 'https://www.netapp.com/zh-hant/artificial-intelligence/what-is-artificial-intelligence/'},\n",
      " {'des': ' › zh-tw › overview › what-i...',\n",
      "  'title': '什麼是人工智慧？',\n",
      "  'url': 'https://azure.microsoft.com/zh-tw/overview/what-is-artificial-intelligence/'},\n",
      " {'des': '頁庫存檔', 'title': '台灣人工智慧學校: 首頁', 'url': 'https://aiacademy.tw/'},\n",
      " {'des': ' › category',\n",
      "  'title': 'AI 人工智慧| TechNews 科技新報',\n",
      "  'url': 'https://technews.tw/category/ai/'}]\n"
     ]
    }
   ],
   "source": [
    "if __name__ == '__main__':\n",
    "    pprint(GoogleSpider().search(input('Search for what? ')))"
   ]
  },
  {
   "cell_type": "code",
   "execution_count": null,
   "metadata": {},
   "outputs": [],
   "source": []
  }
 ],
 "metadata": {
  "kernelspec": {
   "display_name": "Python 3",
   "language": "python",
   "name": "python3"
  },
  "language_info": {
   "codemirror_mode": {
    "name": "ipython",
    "version": 3
   },
   "file_extension": ".py",
   "mimetype": "text/x-python",
   "name": "python",
   "nbconvert_exporter": "python",
   "pygments_lexer": "ipython3",
   "version": "3.8.8"
  }
 },
 "nbformat": 4,
 "nbformat_minor": 2
}
