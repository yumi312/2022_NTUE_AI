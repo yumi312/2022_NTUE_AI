{
 "cells": [
  {
   "cell_type": "markdown",
   "metadata": {},
   "source": [
    "# 練習\n",
    "\n",
    "- 觀察 http://24h.pchome.com.tw/region/DHBE 並撰寫爬蟲程式\n",
    "- 判斷是否為 JavaScript rendered website\n",
    "- 設定 Implicit Wait\n",
    "- 透過 XPath 定位\n",
    "- 抓取商品的名稱與價格"
   ]
  },
  {
   "cell_type": "code",
   "execution_count": 1,
   "metadata": {},
   "outputs": [
    {
     "name": "stdout",
     "output_type": "stream",
     "text": [
      "Collecting selenium\n",
      "  Downloading selenium-4.1.3-py3-none-any.whl (968 kB)\n",
      "Collecting trio-websocket~=0.9\n",
      "  Downloading trio_websocket-0.9.2-py3-none-any.whl (16 kB)\n",
      "Requirement already satisfied: urllib3[secure,socks]~=1.26 in c:\\users\\user\\anaconda3\\lib\\site-packages (from selenium) (1.26.4)\n",
      "Collecting trio~=0.17\n",
      "  Downloading trio-0.20.0-py3-none-any.whl (359 kB)\n",
      "Collecting outcome\n",
      "  Downloading outcome-1.1.0-py2.py3-none-any.whl (9.7 kB)\n",
      "Requirement already satisfied: sortedcontainers in c:\\users\\user\\anaconda3\\lib\\site-packages (from trio~=0.17->selenium) (2.3.0)\n",
      "Requirement already satisfied: async-generator>=1.9 in c:\\users\\user\\anaconda3\\lib\\site-packages (from trio~=0.17->selenium) (1.10)\n",
      "Requirement already satisfied: attrs>=19.2.0 in c:\\users\\user\\anaconda3\\lib\\site-packages (from trio~=0.17->selenium) (20.3.0)\n",
      "Requirement already satisfied: idna in c:\\users\\user\\anaconda3\\lib\\site-packages (from trio~=0.17->selenium) (2.10)\n",
      "Requirement already satisfied: cffi>=1.14 in c:\\users\\user\\anaconda3\\lib\\site-packages (from trio~=0.17->selenium) (1.14.5)\n",
      "Requirement already satisfied: sniffio in c:\\users\\user\\anaconda3\\lib\\site-packages (from trio~=0.17->selenium) (1.2.0)\n",
      "Requirement already satisfied: pycparser in c:\\users\\user\\anaconda3\\lib\\site-packages (from cffi>=1.14->trio~=0.17->selenium) (2.20)\n",
      "Collecting wsproto>=0.14\n",
      "  Downloading wsproto-1.1.0-py3-none-any.whl (24 kB)\n",
      "Requirement already satisfied: pyOpenSSL>=0.14 in c:\\users\\user\\anaconda3\\lib\\site-packages (from urllib3[secure,socks]~=1.26->selenium) (20.0.1)\n",
      "Requirement already satisfied: certifi in c:\\users\\user\\anaconda3\\lib\\site-packages (from urllib3[secure,socks]~=1.26->selenium) (2020.12.5)\n",
      "Requirement already satisfied: cryptography>=1.3.4 in c:\\users\\user\\anaconda3\\lib\\site-packages (from urllib3[secure,socks]~=1.26->selenium) (3.4.7)\n",
      "Requirement already satisfied: PySocks!=1.5.7,<2.0,>=1.5.6 in c:\\users\\user\\anaconda3\\lib\\site-packages (from urllib3[secure,socks]~=1.26->selenium) (1.7.1)\n",
      "Requirement already satisfied: six>=1.5.2 in c:\\users\\user\\anaconda3\\lib\\site-packages (from pyOpenSSL>=0.14->urllib3[secure,socks]~=1.26->selenium) (1.15.0)\n",
      "Collecting h11<1,>=0.9.0\n",
      "  Downloading h11-0.13.0-py3-none-any.whl (58 kB)\n",
      "Installing collected packages: outcome, h11, wsproto, trio, trio-websocket, selenium\n",
      "Successfully installed h11-0.13.0 outcome-1.1.0 selenium-4.1.3 trio-0.20.0 trio-websocket-0.9.2 wsproto-1.1.0\n"
     ]
    }
   ],
   "source": [
    "# !pip install selenium"
   ]
  },
  {
   "cell_type": "code",
   "execution_count": 4,
   "metadata": {},
   "outputs": [],
   "source": [
    "import os\n",
    "\n",
    "from selenium import webdriver\n",
    "# XPath\n",
    "from selenium.webdriver.common.by import By\n",
    "\n",
    "url = 'http://24h.pchome.com.tw/region/DHAZ'"
   ]
  },
  {
   "cell_type": "code",
   "execution_count": 5,
   "metadata": {},
   "outputs": [
    {
     "name": "stdout",
     "output_type": "stream",
     "text": [
      "LG gram_14T90P-G.AA75C2 黑(i7-1165G7/16G/512GB SSD/W10/FHD/14) - 47900\n",
      "HP 15s-fq3019TU 星河銀(N6000/4GB/256GB SSD/W11/HD/15.6) - 13900\n",
      "技嘉 AERO 15 OLED KD 創作者筆電 (i7-11800H/16G/RTX3060/512G SSD/Win11Pro/OLED UHD/15.6) - 49900\n",
      "HP Pavilion Gaming 15-ec2037AX (R7-5800H/8G/RTX3050-4G/512G PCIe/W10/FHD/144Hz/15.6) - 32900\n",
      "Dynabook CS40L-H PYS38T-00F002 黑曜藍(i5-1035G1/8G/512GB SSD/W10/FHD/14) - 16999\n",
      "【黑鍵盤組】微軟Surface Go2 10.5吋平板筆電(4425Y/4G/64G eMMC/W10S)+鍵盤 - 13488\n",
      "ASUS X415EP-0071G1135G7 星空灰(i5-1135G7/8G/MX330-2G/512G PCIe/W10/FHD/14) - 22900\n",
      "HP 15s-fq2007TU 星幻粉(i7-1165 G7/16GB/1TB PCIe/W10/FHD/15.6) - 33900\n",
      "HP ENVY x360 13-ay0536AU (R7-4700U/16G/1T PCIe/W10/FHD/13.3) - 38900\n",
      "【黑色鍵盤組】Microsoft 微軟 Surface Pro 7 VDV-00011 白金(i5-1035G4/8G/128G/W10/FHD/12.3) - 25888\n",
      "Microsoft 微軟 Surface Laptop Go THH-00019 白金(i5-1035G1/8G/128G/W10S/12.4) - 18888\n",
      "ASUS X515EP-0171G1165G7 星空灰(i7-1165G7/8G/MX330 2G/512G PCIe/W10/FHD/15.6) - 30900\n",
      "ACER A315-57G-51LH 黑(i5-1035G1/4G/MX330-2G/1T+256G PCIe/W10/FHD/15.6) - 19900\n",
      "Lenovo IdeaPad Slim 5i 81YH006RTW 白金灰 (i5-1035G1/8G/512G PCIe/W10/FHD/14) - 23990\n",
      "MSI微星 Sword 15 A12UC-014TW(i7-12700H/8GB/RTX3050-4G/512G SSD/W11/FHD/144Hz/15.6) - 38900\n",
      "ASUS X415EA-0131G1135G7 星空灰(i5-1135G7/8G/512G PCIe/W10/FHD/14) - 20900\n",
      "Lenovo IdeaPad Slim 5i 81YK006VTW 湖水藍 (i5-1035G1/8G/MX330 2G獨顯/1TB+256G PCIe/W10/FHD/15.6) - 26990\n",
      "ASUS FX516PM-0201A11370H 御鐵灰(i7-11370H/16G/RTX3060-6G/512G PCIe/W10/QHD/165Hz/15.6) - 40900\n",
      "ASUS Zenbook 14X OLED UX5400EG-0108P1135G7 星河紫(i5-1135G7/16G/MX450/512GB/W11/2.8K/OLED_T/14) - 42900\n",
      "ASUS B7402FEA-0071A1155G7 黑 (i5-1155G7/16G/512G PCIe/W10P/WQXGA_T/14) - 39990\n",
      "Lenovo IdeaPad Slim 3i 81WB008QTW 深淵藍 (i5-10210U/8G/MX330 2G獨顯/512G PCIe/W10/FHD/15.6) - 24990\n",
      "ASUS ZenBook 14 UX425EA-0702P1135G7 星河紫(i5-1135G7/16G/512G PCIe/W11/FHD/14) - 33900\n",
      "ASUS FX516PE-0031A11370H 御鐵灰(i7-11370H/8G/RTX3050Ti-4G/512G PCIe/W10/FHD/144Hz/15.6) - 34500\n",
      "ACER A514-54G-513S 黑(i5-1135G7/8G/MX350-2G/512G PCIe/W10/FHD/14) - 21900\n",
      "ASUS VivoBook Pro K3400PH-0148B11300H 午夜藍(i5-11300H/16G/GTX 1650-4G/512G PCIe/WQXGA/14) - 32900\n",
      "MSI微星 Pulse GL66 11UEK-699TW(i7-11800H/16G/RTX3060-6G/1T SSD/Win11/FHD/240Hz/15.6)筆電 - 45900\n",
      "ASUS VivoBook Flip TP470EA-0112K1135G7 黑(i5-1135G7/8G/512G PCIe/Touch/Glare/W10/FHD/14) - 23900\n",
      "Lenovo IdeaPad Slim 3i 81WA004STW 深淵藍 (i5-10210U/4G/MX330 2G獨顯/1TB+256G PCIe/W10/FHD/14) - 23990\n",
      "ASUS X515MA-0421SN4020 冰河銀(Celeron N4020/4G/256G PCIe/W10/FHD/15.6) - 13900\n",
      "MSI微星 Katana GF66 11UD-1210TW(i5-11400H/8GB/RTX3050Ti-4G/1T SSD/W11/FHD/144Hz/15.6)筆電 - 29999\n",
      "ACER Predator PH315-54-72VQ 黑(i7-11800H/16G/RTX3070-8G/512G PCIe/W10/FHD/144Hz/15.6) - 49900\n",
      "ACER SF114-34-C0JD 金(N5100/4G/256GB PCIe SSD/W10/FHD/14) - 12900\n",
      "ASUS E410MA-0851PN4020 玫瑰金(Celeron N4020/4G/64G/Windows 10 Home S/HD/14) - 9990\n",
      "ASUS FX506HM-0042A11800H 幻影灰(i7-11800H/8G/RTX 3060-6G/512G PCIe/W10/FHD/144Hz) - 41900\n",
      "ASUS FX506HEB-0042A11800H 幻影灰(i7-11800H/8G/RTX3050Ti-4G/512G SSD/W10/FHD/15.6/144Hz) - 35900\n",
      "ASUS ZenBook Pro 15 UX535LI-0323G10300H(i5-10300H/16G/GTX1650Ti/512GB/W10/FHD/15.6) - 37988\n",
      "ASUS B9450FA-3441A10210U 黑 (i5-10210U/16G/256G PCIe/W10/FHD/14) - 27990\n",
      "ASUS VivoBook X413EP-0021W1135G7 幻彩白(i5-1135G7/8G/MX330-2G/512G PCIe/W10/FHD/14) - 24900\n",
      "MSI微星 Pulse GL76 12UEK-220TW(i7-12700H/16G/RTX3060-6G/1T SSD/Win11/FHD/360Hz/17.3)筆電 - 51900\n",
      "ASUS E410MA-0551WN4020 夢幻白(Celeron N4020/4G/64G/Windows 10 Home S/HD/14) - 9990\n",
      "MSI微星 Sword 15 A11UC-073TW(i7-11800H/8GB/RTX3050-4G/512G SSD/W10/FHD/144Hz/15.6)筆電 - 34900\n",
      "ASUS FX706HEB-0042A11800H 幻影灰(i7-11800H/8G/RTX 3050Ti-4G/512G SSD/W10/FHD/17.3/144Hz) - 36500\n",
      "Lenovo ThinkPad E15 Gen2 20TDS0M300 黑 (i5-1135G7/8G/MX350-2G/512G PCIe/W10/FHD/15.6) - 24900\n",
      "ASUS B9450FA-3401A10610U 黑 (i7-10610U/16G/1TB PCIe/W10P/FHD/14) - 36880\n",
      "ASUS VivoBook S14 S435EA-0089E1135G7 秘境綠(i5-1135G7/16G/512G PCIe/W11/FHD/14) - 32900\n"
     ]
    }
   ],
   "source": [
    "try:\n",
    "    driver = webdriver.Chrome('chromedriver')\n",
    "    driver.get(url)\n",
    "    driver.maximize_window()\n",
    "    driver.implicitly_wait(10)\n",
    "    \n",
    "    # get web elements\n",
    "    items = driver.find_elements(By.XPATH, '//dl[@id=\"Block12Container50\"]/dd')\n",
    "    \n",
    "    for item in items:\n",
    "        title = item.find_element(By.XPATH, './div/h5/a').text\n",
    "        price = item.find_element(By.XPATH, './div/ul/li/span/span').text\n",
    "        if title and price:\n",
    "            print('{} - {}'.format(title, price))\n",
    "\n",
    "except Exception as e:\n",
    "    print(e)\n",
    "finally:\n",
    "    driver.quit()"
   ]
  },
  {
   "cell_type": "code",
   "execution_count": 6,
   "metadata": {},
   "outputs": [
    {
     "name": "stdout",
     "output_type": "stream",
     "text": [
      "微軟Surface Laptop Go 12.4吋(i5/4G/64G白金)1ZO-00019 - $11,888\n",
      "微軟 Microsoft Surface Go 3 10.5吋(6500Y/4G/64G)(不含鍵盤、手寫筆、滑鼠) - $12,288\n",
      "Lenovo E15 15.6吋商務筆電 i7-1165G7/16G/1TB PCIe SSD/ThinkPad/Win10 Pro/三年保到府維修/特仕版 - $36,990\n",
      "ASU ExpertBook B1 15.6吋 商用筆電 B1500CEAE-0191A1115G4 (i3-1115G4/8G/256G/No NumberPad/Win10Pro) - $22,990\n",
      "ASUS ExpertBook B9 14吋 商用筆電 B9400CEA-0931A1165G7 黑 (i7-1165G7/32G/1TB PCIe/W10P) - $56,880\n",
      "ASUS ExpertBook B3 Flip B3402FEA-0081A1135G7 14吋商用筆電 (i5-1135G7/16G/512G SSD/Win10Pro) - $29,900\n",
      "微軟 Microsoft Surface Go 3 10.5吋(6500Y/8G/128G)黑色鍵盤+黑色手寫筆+滑鼠組合 - $22,988\n",
      "ASUS 華碩 B1500 15.6吋商用筆電 (i3-1115G4/8G/256G/W10 PRO/三年保固) - $22,900\n",
      "ASU ExpertBook B1 14吋 商用筆電 B1400CEAE-0521A1115G4 (i3-1115G4/8G/256G/NumberPad/NoCRD/Win10Pro) - $22,990\n",
      "ASUS ExpertBook B9450FA 14吋 商用筆電 B9450FA-3401A10610U (i7-10610U/16G/1TB PCIe/W10P) - $43,880\n",
      "ASUS ExpertBook B9 14吋 商用筆電 B9400CEA-0191A1135G7 (i5-1135G7/16G/1TB PCIe/W10P) - $46,990\n",
      "微軟Surface Laptop Go 12.4吋(i5/8G/128G白金) - $21,888\n",
      "【HP 惠普】240 G8 14吋輕薄窄邊框商用筆電4F1U8PA(I5-1135G7/8G/500G/W10P) - $27,500\n",
      "微軟 Microsoft Surface Go 3 10.5吋(6500Y/8G/128G)(不含鍵盤、手寫筆、滑鼠) - $16,788\n",
      "ASUS ExpertBook B9 14吋 商用筆電 B9450FA-3441A10210U (i5-10210U/16G/256G/WIFI6/Win10home) - $27,990\n"
     ]
    }
   ],
   "source": [
    "url = 'https://tw.buy.yahoo.com/category/39919674'\n",
    "\n",
    "try:\n",
    "    driver = webdriver.Chrome('chromedriver')\n",
    "    driver.get(url)\n",
    "    driver.maximize_window()\n",
    "    driver.implicitly_wait(10)\n",
    "    \n",
    "    # get web elements\n",
    "    items = driver.find_elements(By.XPATH, '//span[@class=\"BaseGridItem__itemInfo___3E5Bx\"]')\n",
    "    \n",
    "    for item in items: \n",
    "        title = item.find_element(By.XPATH, './span[@class=\"BaseGridItem__title___2HWui\"]').text\n",
    "        try:\n",
    "            price = item.find_element(By.XPATH, './em[@class=\"BaseGridItem__price___31jkj\"]').text\n",
    "        except:\n",
    "            price = item.find_element(By.XPATH, './span[@class=\"BaseGridItem__price___31jkj\"]/em').text\n",
    "        if title and price:\n",
    "            print('{} - {}'.format(title, price))\n",
    "\n",
    "except Exception as e:\n",
    "    print(e)\n",
    "finally:\n",
    "    driver.quit()"
   ]
  },
  {
   "cell_type": "code",
   "execution_count": null,
   "metadata": {},
   "outputs": [],
   "source": []
  }
 ],
 "metadata": {
  "kernelspec": {
   "display_name": "Python 3",
   "language": "python",
   "name": "python3"
  },
  "language_info": {
   "codemirror_mode": {
    "name": "ipython",
    "version": 3
   },
   "file_extension": ".py",
   "mimetype": "text/x-python",
   "name": "python",
   "nbconvert_exporter": "python",
   "pygments_lexer": "ipython3",
   "version": "3.8.8"
  }
 },
 "nbformat": 4,
 "nbformat_minor": 2
}
